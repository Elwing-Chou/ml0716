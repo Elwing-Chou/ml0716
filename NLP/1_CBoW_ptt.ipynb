{
  "nbformat": 4,
  "nbformat_minor": 0,
  "metadata": {
    "anaconda-cloud": {},
    "kernelspec": {
      "name": "python3",
      "display_name": "Python 3"
    },
    "language_info": {
      "codemirror_mode": {
        "name": "ipython",
        "version": 3
      },
      "file_extension": ".py",
      "mimetype": "text/x-python",
      "name": "python",
      "nbconvert_exporter": "python",
      "pygments_lexer": "ipython3",
      "version": "3.6.3"
    },
    "colab": {
      "name": "CBoW_ptt.ipynb",
      "provenance": []
    },
    "accelerator": "GPU"
  },
  "cells": [
    {
      "cell_type": "code",
      "metadata": {
        "id": "v2K5B1NgylQl",
        "colab_type": "code",
        "colab": {}
      },
      "source": [
        "# 為了美觀 我把Future Warning關閉\n",
        "import warnings\n",
        "warnings.filterwarnings(\"ignore\", category=FutureWarning)"
      ],
      "execution_count": 0,
      "outputs": []
    },
    {
      "cell_type": "code",
      "metadata": {
        "id": "WsYylmXKr3QQ",
        "colab_type": "code",
        "colab": {}
      },
      "source": [
        "# 把 zip 解壓縮到 data 資料夾\n",
        "import zipfile\n",
        "import os\n",
        "if not os.path.exists(\"data\"):\n",
        "    f = zipfile.ZipFile(\"./pttsmalldata.zip\")\n",
        "    f.extractall(\"./data\")\n",
        "    f.close()"
      ],
      "execution_count": 0,
      "outputs": []
    },
    {
      "cell_type": "code",
      "metadata": {
        "id": "j6h0bNWEtmd5",
        "colab_type": "code",
        "outputId": "a7c6d156-a198-4bfb-dcb0-a11c920b5a5c",
        "colab": {
          "base_uri": "https://localhost:8080/",
          "height": 1000
        }
      },
      "source": [
        "import glob\n",
        "import json\n",
        "import pandas as pd\n",
        "# 拿取所有 *.json 檔案\n",
        "fs = glob.glob(\"./data/pttsmalldata/*.json\")\n",
        "# 我們只取用 內文 標題 和 型態(問卦...等等)\n",
        "# 但實際上我們只使用 內文 做訓練而已\n",
        "contents = []\n",
        "titles = []\n",
        "types = []\n",
        "for fn in fs:\n",
        "    with open(fn, \"r\", encoding=\"utf-8\") as f:\n",
        "        data = json.load(f)\n",
        "        contents.append(data[\"post_content\"])\n",
        "        titles.append(data[\"post_title\"])\n",
        "        types.append(data[\"post_type\"])\n",
        "df = pd.DataFrame({\n",
        "    \"type\":types,\n",
        "    \"title\":titles,\n",
        "    \"content\":contents\n",
        "}, columns=[\"type\", \"title\", \"content\"])       \n",
        "df"
      ],
      "execution_count": 73,
      "outputs": [
        {
          "output_type": "execute_result",
          "data": {
            "text/html": [
              "<div>\n",
              "<style scoped>\n",
              "    .dataframe tbody tr th:only-of-type {\n",
              "        vertical-align: middle;\n",
              "    }\n",
              "\n",
              "    .dataframe tbody tr th {\n",
              "        vertical-align: top;\n",
              "    }\n",
              "\n",
              "    .dataframe thead th {\n",
              "        text-align: right;\n",
              "    }\n",
              "</style>\n",
              "<table border=\"1\" class=\"dataframe\">\n",
              "  <thead>\n",
              "    <tr style=\"text-align: right;\">\n",
              "      <th></th>\n",
              "      <th>type</th>\n",
              "      <th>title</th>\n",
              "      <th>content</th>\n",
              "    </tr>\n",
              "  </thead>\n",
              "  <tbody>\n",
              "    <tr>\n",
              "      <th>0</th>\n",
              "      <td>問卦</td>\n",
              "      <td>戴手套把女生衣服從洗衣機拿出來有+分嗎?</td>\n",
              "      <td>\\n剛才去公共洗衣機洗衣服\\n\\n打開來看有女生的衣服\\n\\n看來是忘記來拿\\n\\n旁邊有個...</td>\n",
              "    </tr>\n",
              "    <tr>\n",
              "      <th>1</th>\n",
              "      <td>問卦</td>\n",
              "      <td>有沒有約炮約到韓粉該怎麼辦的八卦</td>\n",
              "      <td>\\n\\n小弟今天趁小週末！\\n\\n想說約個炮！\\n\\n通訊軟體打開！\\n\\n有個台中妹自稱韓...</td>\n",
              "    </tr>\n",
              "    <tr>\n",
              "      <th>2</th>\n",
              "      <td>新聞</td>\n",
              "      <td>μ’sメンバー勢ぞろい！『ラブライブ！</td>\n",
              "      <td>\\n1.媒體來源:\\n※ 例如蘋果日報、自由時報（請參考版規下方的核准媒體名單）\\n\\n外媒...</td>\n",
              "    </tr>\n",
              "    <tr>\n",
              "      <th>3</th>\n",
              "      <td>問卦</td>\n",
              "      <td>跟風還是不跟風的卦？</td>\n",
              "      <td>\\n首先慶祝脫離罰單未繳跟廢帳一樣的狀態\\n可以廢文就是爽....\\n\\n\\n回正題\\n\\n...</td>\n",
              "    </tr>\n",
              "    <tr>\n",
              "      <th>4</th>\n",
              "      <td>問卦</td>\n",
              "      <td>鈕承澤是不是台灣的村西？</td>\n",
              "      <td>\\n鈕承澤\\n\\n傳說中戲內自己上\\n\\n戲外也在上\\n\\n他是不是台灣的村西呢？\\n\\n有...</td>\n",
              "    </tr>\n",
              "    <tr>\n",
              "      <th>5</th>\n",
              "      <td>問卦</td>\n",
              "      <td>大陸和美國誰會先發飛彈打我們的八卦</td>\n",
              "      <td>\\nyoyo\\n\\n我成5拉\\n\\n美國和大陸誰會先用飛彈打台灣阿\\n\\n有沒有八卦\\n\\n...</td>\n",
              "    </tr>\n",
              "    <tr>\n",
              "      <th>6</th>\n",
              "      <td>問卦</td>\n",
              "      <td>有沒有哪項運動名人堂最難進的八卦</td>\n",
              "      <td>\\n剛看體育新聞播MLB名人堂\\n\\n想到幾位禁藥偉人一直被擋在門外\\n\\n反而NBA名人門...</td>\n",
              "    </tr>\n",
              "    <tr>\n",
              "      <th>7</th>\n",
              "      <td>問卦</td>\n",
              "      <td>檢舉違停被罵狗養畜生</td>\n",
              "      <td>\\n這個呀，我住30年的故鄉，\\n最近有人檢舉自家樓下違停，\\n記者還做了一集報導。\\n\\n...</td>\n",
              "    </tr>\n",
              "    <tr>\n",
              "      <th>8</th>\n",
              "      <td>問卦</td>\n",
              "      <td>表面上看感覺實際看長相的台女在想什麼</td>\n",
              "      <td>\\n如題\\n\\n小弟我很好奇\\n\\n每個人身邊一定都有一些單身漂亮妹子\\n\\n但是他們都講說...</td>\n",
              "    </tr>\n",
              "    <tr>\n",
              "      <th>9</th>\n",
              "      <td>新聞</td>\n",
              "      <td>轉角違停遭拍照　賓士車主還嗆：我法律系</td>\n",
              "      <td>\\n※發文無1~6小標格式或未依順序任意刪除者會被刪文\\n\\n1.媒體來源: TVBS NE...</td>\n",
              "    </tr>\n",
              "    <tr>\n",
              "      <th>10</th>\n",
              "      <td>問卦</td>\n",
              "      <td>盒盒會駝背</td>\n",
              "      <td>\\n盒盒可愛 但盒盒不說\\n\\n我是可愛的正版盒盒\\n\\n盒盒很常駝背要怎麼辦\\n\\n已經很...</td>\n",
              "    </tr>\n",
              "    <tr>\n",
              "      <th>11</th>\n",
              "      <td>問卦</td>\n",
              "      <td>臺灣的墨爾本在哪裡？</td>\n",
              "      <td>\\n墨爾本我在那邊住了一陣子\\n\\n墨爾本應該是我最喜歡的城市了\\n\\n文化氣息濃厚\\n\\n...</td>\n",
              "    </tr>\n",
              "    <tr>\n",
              "      <th>12</th>\n",
              "      <td>新聞</td>\n",
              "      <td>男子對何韻詩潑紅漆 警壓制帶回派出所</td>\n",
              "      <td>\\n※發文無1~6小標格式或未依順序任意刪除者會被刪文\\n\\n1.媒體來源:\\n\\n自由時報...</td>\n",
              "    </tr>\n",
              "    <tr>\n",
              "      <th>13</th>\n",
              "      <td>問卦</td>\n",
              "      <td>日文是全世界語速最快的語言？！？</td>\n",
              "      <td>\\n小妹最近在學西班牙文\\n覺得西班牙人講話超快\\n想說西班牙文應該是全世界語速最快的語言吧...</td>\n",
              "    </tr>\n",
              "    <tr>\n",
              "      <th>14</th>\n",
              "      <td>新聞</td>\n",
              "      <td>酸嘉義鐵路多1缺！菜鳥警遭釘爆 下場出爐</td>\n",
              "      <td>\\n\\n酸嘉義鐵路多1缺！菜鳥警遭釘爆 下場出爐\\n\\n2019/07/05 14:21 東...</td>\n",
              "    </tr>\n",
              "    <tr>\n",
              "      <th>15</th>\n",
              "      <td>新聞</td>\n",
              "      <td>雄二E巡弋飛彈完成240多枚量產佈署　下半</td>\n",
              "      <td>\\n1.媒體來源:上報\\n2.記者署名 朱明\\n3.完整新聞標題: 雄二E巡弋飛彈完成240...</td>\n",
              "    </tr>\n",
              "    <tr>\n",
              "      <th>16</th>\n",
              "      <td>問卦</td>\n",
              "      <td>午餐吃一碗滷肉飯+一瓶礦泉水</td>\n",
              "      <td>\\n午餐吃一碗滷肉飯+一瓶礦泉水\\n\\n各位覺得如何?\\n\\n都是什麼人會吃這樣的午餐?\\n...</td>\n",
              "    </tr>\n",
              "    <tr>\n",
              "      <th>17</th>\n",
              "      <td>問卦</td>\n",
              "      <td>有沒有四驅車馬達的八卦??</td>\n",
              "      <td>\\n小時候大家應該有玩過吧???\\n\\n魯叔我37歲，小學有玩過\\n\\n當時有一些怪招改車(...</td>\n",
              "    </tr>\n",
              "    <tr>\n",
              "      <th>18</th>\n",
              "      <td>問卦</td>\n",
              "      <td>開toyota進口車能把到台女嗎？</td>\n",
              "      <td>\\n本魯想買toyota的進口神車rav4\\n\\n不知道台女看不看的出來這台車是進口的\\n\\...</td>\n",
              "    </tr>\n",
              "    <tr>\n",
              "      <th>19</th>\n",
              "      <td>新聞</td>\n",
              "      <td>彭于晏松山機場入關帶香蕉酪梨　防檢局：</td>\n",
              "      <td>\\nhttps://www.ettoday.net/news/20190702/148035...</td>\n",
              "    </tr>\n",
              "    <tr>\n",
              "      <th>20</th>\n",
              "      <td>問卦</td>\n",
              "      <td>該提早下班給女友驚喜嗎？</td>\n",
              "      <td>\\n\\n在來就是連假了\\n\\n想說等等來請特休\\n\\n提早下班給女友個驚喜&gt;&lt;\\n\\n但是一...</td>\n",
              "    </tr>\n",
              "    <tr>\n",
              "      <th>21</th>\n",
              "      <td>問卦</td>\n",
              "      <td>台女的黑色陰唇讓我覺醒</td>\n",
              "      <td>\\n台女的陰唇變黑通常是因為這些因素:\\n1.曾經和別的男人同居，性生活頻繁\\n2.從學生時...</td>\n",
              "    </tr>\n",
              "    <tr>\n",
              "      <th>22</th>\n",
              "      <td>問卦</td>\n",
              "      <td>把認真做事的A板主鬥下台有什麼好處？</td>\n",
              "      <td>\\n說真的無論是共用或代po，現在就是兩方都無法說服另外一方，\\n\\n\\n既然提不出證據證明...</td>\n",
              "    </tr>\n",
              "    <tr>\n",
              "      <th>23</th>\n",
              "      <td>問卦</td>\n",
              "      <td>領現金的工作有什麼好處？</td>\n",
              "      <td>\\n安安\\n肥宅我最近畢業等當兵\\n先回家幫忙工作\\n不過啊\\n我都是日領現金\\n我爸都跟我...</td>\n",
              "    </tr>\n",
              "    <tr>\n",
              "      <th>24</th>\n",
              "      <td>問卦</td>\n",
              "      <td>不簽聯絡簿跟手機不充電哪個難以忍受?</td>\n",
              "      <td>\\n我覺得是手機不充電\\n\\n天啊居然有人手機剩70%還不充電，完全無法理解\\n甚至有人把手...</td>\n",
              "    </tr>\n",
              "    <tr>\n",
              "      <th>25</th>\n",
              "      <td>爆卦</td>\n",
              "      <td>新竹版禁止討論彩媽議題啦!!</td>\n",
              "      <td>\\n更新進度 版主撤銷公告啦!!\\n\\n版主公告照貼\\n==================...</td>\n",
              "    </tr>\n",
              "    <tr>\n",
              "      <th>26</th>\n",
              "      <td>問卦</td>\n",
              "      <td>國軍買M1A2有送週邊商品嗎？</td>\n",
              "      <td>\\n不知道美國爸爸在交貨會不會送有m1a2 Logo 的週邊商品，陽傘 保溫瓶 包包 筆 折...</td>\n",
              "    </tr>\n",
              "    <tr>\n",
              "      <th>27</th>\n",
              "      <td>問卦</td>\n",
              "      <td>有沒有日圓比台幣小很多的八卦</td>\n",
              "      <td>\\n\\n\\n\\n一般來說,比台灣先進的國家貨幣多比台灣大,像美元,歐元,\\n英鎊,澳幣,新加...</td>\n",
              "    </tr>\n",
              "    <tr>\n",
              "      <th>28</th>\n",
              "      <td>新聞</td>\n",
              "      <td>電價首次連3凍 電價穩定準備435億元撥補</td>\n",
              "      <td>\\n1.媒體來源:\\nUDN聯合新聞網\\n\\n\\n2.記者署名\\n中央社\\n\\n\\n3.完整...</td>\n",
              "    </tr>\n",
              "    <tr>\n",
              "      <th>29</th>\n",
              "      <td>新聞</td>\n",
              "      <td>37歲女跳軌撿手機！列車進站…轉頭被撞死</td>\n",
              "      <td>\\n1.媒體來源:\\n東森新聞\\n\\n2.記者署名;\\n責任編輯 陳稚宜\\n\\n3.完整新聞...</td>\n",
              "    </tr>\n",
              "    <tr>\n",
              "      <th>...</th>\n",
              "      <td>...</td>\n",
              "      <td>...</td>\n",
              "      <td>...</td>\n",
              "    </tr>\n",
              "    <tr>\n",
              "      <th>19970</th>\n",
              "      <td>問卦</td>\n",
              "      <td>五毛畜牲今天有去天安門嗎？</td>\n",
              "      <td>\\n嗨 黨工 綠毛蟲 藍蛆 柯粉 柯黑 五毛賤畜 大家好\\n\\n前幾天看到中國名言\\n\\n我...</td>\n",
              "    </tr>\n",
              "    <tr>\n",
              "      <th>19971</th>\n",
              "      <td>問卦</td>\n",
              "      <td>有沒有菜逼巴要不見的八卦</td>\n",
              "      <td>\\n說的就是我啦嗚嗚嗚\\n明天就是10月1日了\\n還沒700天要不能發廢文了\\n八卦版的大家...</td>\n",
              "    </tr>\n",
              "    <tr>\n",
              "      <th>19972</th>\n",
              "      <td>新聞</td>\n",
              "      <td>綠視陸為敵國 喊打壓 理不直</td>\n",
              "      <td>\\n1.媒體來源:\\n旺報\\n\\n2.記者署名\\n陳柏廷\\n\\n3.完整新聞標題:\\n綠視陸...</td>\n",
              "    </tr>\n",
              "    <tr>\n",
              "      <th>19973</th>\n",
              "      <td>問卦</td>\n",
              "      <td>罹患癌症的活到老死的到底多不多人啊</td>\n",
              "      <td>\\n最近的殺手癌症，大腸癌跟肺癌這些\\n目前國內外的醫療技術到底開發的怎樣了\\n標靶藥物，化...</td>\n",
              "    </tr>\n",
              "    <tr>\n",
              "      <th>19974</th>\n",
              "      <td>問卦</td>\n",
              "      <td>這次私菸認真抓 484會動搖國本？</td>\n",
              "      <td>\\n  吶 魯魯我剛看完公視節目\\n  #有話好說\\n\\n   節目說華航有好幾年內的資料\\...</td>\n",
              "    </tr>\n",
              "    <tr>\n",
              "      <th>19975</th>\n",
              "      <td>問卦</td>\n",
              "      <td>該怎麼追女牙醫</td>\n",
              "      <td>\\n\\n最近幫小魯我看牙齒的女牙醫\\n\\n動作 講話聲音好溫柔\\n\\n雖然她都戴著口罩\\n\\...</td>\n",
              "    </tr>\n",
              "    <tr>\n",
              "      <th>19976</th>\n",
              "      <td>問卦</td>\n",
              "      <td>四海遊龍是怎麼被八方雲集KO的？</td>\n",
              "      <td>\\n如題\\n\\n本肥家附近原本有很多間四海遊龍\\n\\n不過最近好像有越來越少的趨勢\\n\\n然...</td>\n",
              "    </tr>\n",
              "    <tr>\n",
              "      <th>19977</th>\n",
              "      <td>問卦</td>\n",
              "      <td>日本人4不4普遍都變窮了？</td>\n",
              "      <td>\\n之前去日本東京搭地鐵時\\n\\n我發現拿螢幕有按鈕iPhone的上班族 學生還蠻多了\\n\\...</td>\n",
              "    </tr>\n",
              "    <tr>\n",
              "      <th>19978</th>\n",
              "      <td>問卦</td>\n",
              "      <td>花音把我當椅子坐 怎麼辦</td>\n",
              "      <td>\\n魯蛇 魯妹 姆咪豪  魯蛇我不專心聽花音說什麼欸\\n偷偷瞄果汁被發現惹  花音吃醋惹\\n...</td>\n",
              "    </tr>\n",
              "    <tr>\n",
              "      <th>19979</th>\n",
              "      <td>問卦</td>\n",
              "      <td>哪裡可以買到日式早餐</td>\n",
              "      <td>\\n\\n剛才去吉野家發現有賣日式早餐感覺新奇\\n除了這裡還有哪裡有賣日式的早餐嗎\\n飯糰除外...</td>\n",
              "    </tr>\n",
              "    <tr>\n",
              "      <th>19980</th>\n",
              "      <td>問卦</td>\n",
              "      <td>明天可以看什麼電影</td>\n",
              "      <td>\\n大家好啊\\n明天確定放假了\\n準備要看電影\\n原本這禮拜已經打算去看小丑了\\n還有其他好...</td>\n",
              "    </tr>\n",
              "    <tr>\n",
              "      <th>19981</th>\n",
              "      <td>新聞</td>\n",
              "      <td>王金平佈局「披橘袍參選」？　親民黨證實</td>\n",
              "      <td>\\n\\nETtoday新聞雲\\n\\n王金平佈局「披橘袍參選」？　親民黨證實：王已接觸宋楚瑜\\...</td>\n",
              "    </tr>\n",
              "    <tr>\n",
              "      <th>19982</th>\n",
              "      <td>問卦</td>\n",
              "      <td>為什麼防曬擦到喉間感覺很不舒服</td>\n",
              "      <td>\\n這樣的問卦會不會感覺好像gay一樣\\n\\n\\n這些天 太陽超大的\\n\\n曬一下子皮膚就發...</td>\n",
              "    </tr>\n",
              "    <tr>\n",
              "      <th>19983</th>\n",
              "      <td>問卦</td>\n",
              "      <td>去香港可以帶安全帽嗎</td>\n",
              "      <td>\\n香港持續抗爭中\\n\\n不知道可以帶安全帽和防毒面具過去嗎\\n\\n在過境會被攔下來嗎\\n\\...</td>\n",
              "    </tr>\n",
              "    <tr>\n",
              "      <th>19984</th>\n",
              "      <td>問卦</td>\n",
              "      <td>怎麼要下交流道就變中國人？</td>\n",
              "      <td>\\n\\n如題。\\n小魯臺灣臺南城，民主聖地小市民。\\n\\n大家都知道臺灣人守規矩愛排隊。\\n...</td>\n",
              "    </tr>\n",
              "    <tr>\n",
              "      <th>19985</th>\n",
              "      <td>問卦</td>\n",
              "      <td>急!火災現場外面有人喊加油</td>\n",
              "      <td>\\n\\n剛剛半夜某棟樓發生大火\\n\\n裡面很多住戶逃不掉只能自己打火\\n\\n\\n但是這時候隔...</td>\n",
              "    </tr>\n",
              "    <tr>\n",
              "      <th>19986</th>\n",
              "      <td>問卦</td>\n",
              "      <td>你各位都沒有想過要減肥嗎? 要怎麼減?</td>\n",
              "      <td>\\n乳題啦\\n\\n八卦一堆臭肥宅眾所皆知啦\\n\\n那你們都沒想過要減肥嗎?\\n\\n好\\n\\n...</td>\n",
              "    </tr>\n",
              "    <tr>\n",
              "      <th>19987</th>\n",
              "      <td>問卦</td>\n",
              "      <td>妹子的夢想是什麼?</td>\n",
              "      <td>\\n夢想\\n\\n每個人心裡選擇的都不ㄧ樣\\n\\n因而產生夢想是否真的容易實現的疑慮\\n\\n有...</td>\n",
              "    </tr>\n",
              "    <tr>\n",
              "      <th>19988</th>\n",
              "      <td>新聞</td>\n",
              "      <td>旅外人士調查 台灣榮登全球最適合居住就</td>\n",
              "      <td>\\n※發文無1~6小標格式或未依順序任意刪除者會被刪文\\n\\n1.媒體來源:\\n\\n中央社\\...</td>\n",
              "    </tr>\n",
              "    <tr>\n",
              "      <th>19989</th>\n",
              "      <td>新聞</td>\n",
              "      <td>捷克提供輔助保護 台詐騙犯暫時「免送中</td>\n",
              "      <td>\\n1.媒體來源:\\n\\n自由時報\\n\\n\\n2.記者署名\\n\\n〔記者呂伊萱／台北報導〕\\...</td>\n",
              "    </tr>\n",
              "    <tr>\n",
              "      <th>19990</th>\n",
              "      <td>問卦</td>\n",
              "      <td>雲端同樂會</td>\n",
              "      <td>\\n突然好想吃餅乾\\n\\n想到小時候 有的學期末會有同樂會\\n\\n那麼現在科技這麼發達 台灣...</td>\n",
              "    </tr>\n",
              "    <tr>\n",
              "      <th>19991</th>\n",
              "      <td>問卦</td>\n",
              "      <td>性愛機器人會開價多少</td>\n",
              "      <td>\\n假如未來真的有出\\n那可以做蘿莉體型的\\n然後標榜它18歲\\n宅宅們應該都會買單吧\\n這...</td>\n",
              "    </tr>\n",
              "    <tr>\n",
              "      <th>19992</th>\n",
              "      <td>問卦</td>\n",
              "      <td>女僕裝要選黑的還是粉的呀？</td>\n",
              "      <td>\\n是這樣的\\n剛才找到兩套不錯的女僕裝\\n一套是黑的 一套是粉的\\n兩套各有各的優勢\\n黑...</td>\n",
              "    </tr>\n",
              "    <tr>\n",
              "      <th>19993</th>\n",
              "      <td>問卦</td>\n",
              "      <td>FB上中國人料理的八卦？</td>\n",
              "      <td>\\n如題啦\\n\\n阿肥是不會用ig的智障\\n\\n只會滑ptt和fb看奶打手槍\\n\\n但是R ...</td>\n",
              "    </tr>\n",
              "    <tr>\n",
              "      <th>19994</th>\n",
              "      <td>問卦</td>\n",
              "      <td>youtube跟風來跟風去 會有人跟這個嗎</td>\n",
              "      <td>\\n\\nyoutuber 除了自己擁有專業領域的\\n\\n大部分就像談話性節目這樣 你幹啥 我...</td>\n",
              "    </tr>\n",
              "    <tr>\n",
              "      <th>19995</th>\n",
              "      <td>問卦</td>\n",
              "      <td>有羅馬李廣---凱薩的八卦？</td>\n",
              "      <td>\\n\\n凱薩大帝西征高爐，東征希臘，並對羅馬的政治大力改革，\\n\\n文治武功前無古人，後無來...</td>\n",
              "    </tr>\n",
              "    <tr>\n",
              "      <th>19996</th>\n",
              "      <td>問卦</td>\n",
              "      <td>成龍是史上第一個玩『火車衝浪』的人嗎?</td>\n",
              "      <td>\\n警察故事3之超級警察在1992年上映\\n\\n其中一場戲在火車上對決反派\\n\\n鼻子還在火...</td>\n",
              "    </tr>\n",
              "    <tr>\n",
              "      <th>19997</th>\n",
              "      <td>問卦</td>\n",
              "      <td>哪些工作對人生是有幫助的啊？</td>\n",
              "      <td>\\n如題\\n\\n鄉民認為哪些工作是對人生有幫助的呢？\\n\\n有沒有這方面的八卦？\\n\\n--\\n</td>\n",
              "    </tr>\n",
              "    <tr>\n",
              "      <th>19998</th>\n",
              "      <td>問卦</td>\n",
              "      <td>有沒有蜻蜓不見了和登革熱的八卦？</td>\n",
              "      <td>\\n小魯是高雄人，\\n記得國中小的時候，只要下雨隔天，到處都可以看到蜻蜓飛來飛去，\\n尤其操...</td>\n",
              "    </tr>\n",
              "    <tr>\n",
              "      <th>19999</th>\n",
              "      <td>問卦</td>\n",
              "      <td>空姐撐不住，你我台男都推一把？</td>\n",
              "      <td>\\n\\n\\n空姐罷工已經持續一陣子了\\n\\n為什麼會有撐不住要歸隊的新聞\\n\\n就是我們這些...</td>\n",
              "    </tr>\n",
              "  </tbody>\n",
              "</table>\n",
              "<p>20000 rows × 3 columns</p>\n",
              "</div>"
            ],
            "text/plain": [
              "      type  ...                                            content\n",
              "0       問卦  ...  \\n剛才去公共洗衣機洗衣服\\n\\n打開來看有女生的衣服\\n\\n看來是忘記來拿\\n\\n旁邊有個...\n",
              "1       問卦  ...  \\n\\n小弟今天趁小週末！\\n\\n想說約個炮！\\n\\n通訊軟體打開！\\n\\n有個台中妹自稱韓...\n",
              "2       新聞  ...  \\n1.媒體來源:\\n※ 例如蘋果日報、自由時報（請參考版規下方的核准媒體名單）\\n\\n外媒...\n",
              "3       問卦  ...  \\n首先慶祝脫離罰單未繳跟廢帳一樣的狀態\\n可以廢文就是爽....\\n\\n\\n回正題\\n\\n...\n",
              "4       問卦  ...  \\n鈕承澤\\n\\n傳說中戲內自己上\\n\\n戲外也在上\\n\\n他是不是台灣的村西呢？\\n\\n有...\n",
              "5       問卦  ...  \\nyoyo\\n\\n我成5拉\\n\\n美國和大陸誰會先用飛彈打台灣阿\\n\\n有沒有八卦\\n\\n...\n",
              "6       問卦  ...  \\n剛看體育新聞播MLB名人堂\\n\\n想到幾位禁藥偉人一直被擋在門外\\n\\n反而NBA名人門...\n",
              "7       問卦  ...  \\n這個呀，我住30年的故鄉，\\n最近有人檢舉自家樓下違停，\\n記者還做了一集報導。\\n\\n...\n",
              "8       問卦  ...  \\n如題\\n\\n小弟我很好奇\\n\\n每個人身邊一定都有一些單身漂亮妹子\\n\\n但是他們都講說...\n",
              "9       新聞  ...  \\n※發文無1~6小標格式或未依順序任意刪除者會被刪文\\n\\n1.媒體來源: TVBS NE...\n",
              "10      問卦  ...  \\n盒盒可愛 但盒盒不說\\n\\n我是可愛的正版盒盒\\n\\n盒盒很常駝背要怎麼辦\\n\\n已經很...\n",
              "11      問卦  ...  \\n墨爾本我在那邊住了一陣子\\n\\n墨爾本應該是我最喜歡的城市了\\n\\n文化氣息濃厚\\n\\n...\n",
              "12      新聞  ...  \\n※發文無1~6小標格式或未依順序任意刪除者會被刪文\\n\\n1.媒體來源:\\n\\n自由時報...\n",
              "13      問卦  ...  \\n小妹最近在學西班牙文\\n覺得西班牙人講話超快\\n想說西班牙文應該是全世界語速最快的語言吧...\n",
              "14      新聞  ...  \\n\\n酸嘉義鐵路多1缺！菜鳥警遭釘爆 下場出爐\\n\\n2019/07/05 14:21 東...\n",
              "15      新聞  ...  \\n1.媒體來源:上報\\n2.記者署名 朱明\\n3.完整新聞標題: 雄二E巡弋飛彈完成240...\n",
              "16      問卦  ...  \\n午餐吃一碗滷肉飯+一瓶礦泉水\\n\\n各位覺得如何?\\n\\n都是什麼人會吃這樣的午餐?\\n...\n",
              "17      問卦  ...  \\n小時候大家應該有玩過吧???\\n\\n魯叔我37歲，小學有玩過\\n\\n當時有一些怪招改車(...\n",
              "18      問卦  ...  \\n本魯想買toyota的進口神車rav4\\n\\n不知道台女看不看的出來這台車是進口的\\n\\...\n",
              "19      新聞  ...  \\nhttps://www.ettoday.net/news/20190702/148035...\n",
              "20      問卦  ...  \\n\\n在來就是連假了\\n\\n想說等等來請特休\\n\\n提早下班給女友個驚喜><\\n\\n但是一...\n",
              "21      問卦  ...  \\n台女的陰唇變黑通常是因為這些因素:\\n1.曾經和別的男人同居，性生活頻繁\\n2.從學生時...\n",
              "22      問卦  ...  \\n說真的無論是共用或代po，現在就是兩方都無法說服另外一方，\\n\\n\\n既然提不出證據證明...\n",
              "23      問卦  ...  \\n安安\\n肥宅我最近畢業等當兵\\n先回家幫忙工作\\n不過啊\\n我都是日領現金\\n我爸都跟我...\n",
              "24      問卦  ...  \\n我覺得是手機不充電\\n\\n天啊居然有人手機剩70%還不充電，完全無法理解\\n甚至有人把手...\n",
              "25      爆卦  ...  \\n更新進度 版主撤銷公告啦!!\\n\\n版主公告照貼\\n==================...\n",
              "26      問卦  ...  \\n不知道美國爸爸在交貨會不會送有m1a2 Logo 的週邊商品，陽傘 保溫瓶 包包 筆 折...\n",
              "27      問卦  ...  \\n\\n\\n\\n一般來說,比台灣先進的國家貨幣多比台灣大,像美元,歐元,\\n英鎊,澳幣,新加...\n",
              "28      新聞  ...  \\n1.媒體來源:\\nUDN聯合新聞網\\n\\n\\n2.記者署名\\n中央社\\n\\n\\n3.完整...\n",
              "29      新聞  ...  \\n1.媒體來源:\\n東森新聞\\n\\n2.記者署名;\\n責任編輯 陳稚宜\\n\\n3.完整新聞...\n",
              "...    ...  ...                                                ...\n",
              "19970   問卦  ...  \\n嗨 黨工 綠毛蟲 藍蛆 柯粉 柯黑 五毛賤畜 大家好\\n\\n前幾天看到中國名言\\n\\n我...\n",
              "19971   問卦  ...  \\n說的就是我啦嗚嗚嗚\\n明天就是10月1日了\\n還沒700天要不能發廢文了\\n八卦版的大家...\n",
              "19972   新聞  ...  \\n1.媒體來源:\\n旺報\\n\\n2.記者署名\\n陳柏廷\\n\\n3.完整新聞標題:\\n綠視陸...\n",
              "19973   問卦  ...  \\n最近的殺手癌症，大腸癌跟肺癌這些\\n目前國內外的醫療技術到底開發的怎樣了\\n標靶藥物，化...\n",
              "19974   問卦  ...  \\n  吶 魯魯我剛看完公視節目\\n  #有話好說\\n\\n   節目說華航有好幾年內的資料\\...\n",
              "19975   問卦  ...  \\n\\n最近幫小魯我看牙齒的女牙醫\\n\\n動作 講話聲音好溫柔\\n\\n雖然她都戴著口罩\\n\\...\n",
              "19976   問卦  ...  \\n如題\\n\\n本肥家附近原本有很多間四海遊龍\\n\\n不過最近好像有越來越少的趨勢\\n\\n然...\n",
              "19977   問卦  ...  \\n之前去日本東京搭地鐵時\\n\\n我發現拿螢幕有按鈕iPhone的上班族 學生還蠻多了\\n\\...\n",
              "19978   問卦  ...  \\n魯蛇 魯妹 姆咪豪  魯蛇我不專心聽花音說什麼欸\\n偷偷瞄果汁被發現惹  花音吃醋惹\\n...\n",
              "19979   問卦  ...  \\n\\n剛才去吉野家發現有賣日式早餐感覺新奇\\n除了這裡還有哪裡有賣日式的早餐嗎\\n飯糰除外...\n",
              "19980   問卦  ...  \\n大家好啊\\n明天確定放假了\\n準備要看電影\\n原本這禮拜已經打算去看小丑了\\n還有其他好...\n",
              "19981   新聞  ...  \\n\\nETtoday新聞雲\\n\\n王金平佈局「披橘袍參選」？　親民黨證實：王已接觸宋楚瑜\\...\n",
              "19982   問卦  ...  \\n這樣的問卦會不會感覺好像gay一樣\\n\\n\\n這些天 太陽超大的\\n\\n曬一下子皮膚就發...\n",
              "19983   問卦  ...  \\n香港持續抗爭中\\n\\n不知道可以帶安全帽和防毒面具過去嗎\\n\\n在過境會被攔下來嗎\\n\\...\n",
              "19984   問卦  ...  \\n\\n如題。\\n小魯臺灣臺南城，民主聖地小市民。\\n\\n大家都知道臺灣人守規矩愛排隊。\\n...\n",
              "19985   問卦  ...  \\n\\n剛剛半夜某棟樓發生大火\\n\\n裡面很多住戶逃不掉只能自己打火\\n\\n\\n但是這時候隔...\n",
              "19986   問卦  ...  \\n乳題啦\\n\\n八卦一堆臭肥宅眾所皆知啦\\n\\n那你們都沒想過要減肥嗎?\\n\\n好\\n\\n...\n",
              "19987   問卦  ...  \\n夢想\\n\\n每個人心裡選擇的都不ㄧ樣\\n\\n因而產生夢想是否真的容易實現的疑慮\\n\\n有...\n",
              "19988   新聞  ...  \\n※發文無1~6小標格式或未依順序任意刪除者會被刪文\\n\\n1.媒體來源:\\n\\n中央社\\...\n",
              "19989   新聞  ...  \\n1.媒體來源:\\n\\n自由時報\\n\\n\\n2.記者署名\\n\\n〔記者呂伊萱／台北報導〕\\...\n",
              "19990   問卦  ...  \\n突然好想吃餅乾\\n\\n想到小時候 有的學期末會有同樂會\\n\\n那麼現在科技這麼發達 台灣...\n",
              "19991   問卦  ...  \\n假如未來真的有出\\n那可以做蘿莉體型的\\n然後標榜它18歲\\n宅宅們應該都會買單吧\\n這...\n",
              "19992   問卦  ...  \\n是這樣的\\n剛才找到兩套不錯的女僕裝\\n一套是黑的 一套是粉的\\n兩套各有各的優勢\\n黑...\n",
              "19993   問卦  ...  \\n如題啦\\n\\n阿肥是不會用ig的智障\\n\\n只會滑ptt和fb看奶打手槍\\n\\n但是R ...\n",
              "19994   問卦  ...  \\n\\nyoutuber 除了自己擁有專業領域的\\n\\n大部分就像談話性節目這樣 你幹啥 我...\n",
              "19995   問卦  ...  \\n\\n凱薩大帝西征高爐，東征希臘，並對羅馬的政治大力改革，\\n\\n文治武功前無古人，後無來...\n",
              "19996   問卦  ...  \\n警察故事3之超級警察在1992年上映\\n\\n其中一場戲在火車上對決反派\\n\\n鼻子還在火...\n",
              "19997   問卦  ...   \\n如題\\n\\n鄉民認為哪些工作是對人生有幫助的呢？\\n\\n有沒有這方面的八卦？\\n\\n--\\n\n",
              "19998   問卦  ...  \\n小魯是高雄人，\\n記得國中小的時候，只要下雨隔天，到處都可以看到蜻蜓飛來飛去，\\n尤其操...\n",
              "19999   問卦  ...  \\n\\n\\n空姐罷工已經持續一陣子了\\n\\n為什麼會有撐不住要歸隊的新聞\\n\\n就是我們這些...\n",
              "\n",
              "[20000 rows x 3 columns]"
            ]
          },
          "metadata": {
            "tags": []
          },
          "execution_count": 73
        }
      ]
    },
    {
      "cell_type": "code",
      "metadata": {
        "id": "oGz8py8SR6Op",
        "colab_type": "code",
        "colab": {}
      },
      "source": [
        "# 由於訓練會花超級久時間, 挑選前十篇進行訓練\n",
        "df = df.head(10)"
      ],
      "execution_count": 0,
      "outputs": []
    },
    {
      "cell_type": "code",
      "metadata": {
        "id": "d6tz_6i8wOF8",
        "colab_type": "code",
        "outputId": "a1c3a23e-273f-4959-8e68-1fc572a196de",
        "colab": {
          "base_uri": "https://localhost:8080/",
          "height": 122
        }
      },
      "source": [
        "# 使用 jieba 進行分詞\n",
        "import jieba\n",
        "import os\n",
        "from urllib.request import urlretrieve\n",
        "\n",
        "# 使用大型字典\n",
        "big_dict_path = \"dict.txt.big\"\n",
        "if not os.path.exists(big_dict_path):\n",
        "    print(\"下載大型字典\")\n",
        "    url = \"https://github.com/fxsjy/jieba/raw/master/extra_dict/dict.txt.big\"\n",
        "    urlretrieve(url, big_dict_path)\n",
        "jieba.set_dictionary(big_dict_path)\n",
        "\n",
        "# 需加入一些鄉民常用字彙\n",
        "ptt_dict_path = \"ptt_dic.txt\"\n",
        "if os.path.exists(ptt_dict_path):\n",
        "    print(\"載入ptt專用詞典\")\n",
        "    jieba.load_userdict(ptt_dict_path)"
      ],
      "execution_count": 75,
      "outputs": [
        {
          "output_type": "stream",
          "text": [
            "Building prefix dict from /content/dict.txt.big ...\n",
            "Loading model from cache /tmp/jieba.u501edca284da514cb68b53a20324f4e3.cache\n"
          ],
          "name": "stderr"
        },
        {
          "output_type": "stream",
          "text": [
            "載入ptt專用詞典\n"
          ],
          "name": "stdout"
        },
        {
          "output_type": "stream",
          "text": [
            "Loading model cost 1.299 seconds.\n",
            "Prefix dict has been built succesfully.\n"
          ],
          "name": "stderr"
        }
      ]
    },
    {
      "cell_type": "code",
      "metadata": {
        "id": "19C3FOiPzkWe",
        "colab_type": "code",
        "colab": {}
      },
      "source": [
        "# 將標點符號去掉\n",
        "punct = set(u''':!),.:;?]}¢'\"、。〉》」』】〕〗〞︰︱︳﹐､﹒﹔﹕﹖﹗﹚﹜﹞！），．：；？｜｝︴︶︸︺︼︾﹀﹂﹄﹏､～￠々‖•·ˇˉ―--′’”([{£¥'\"‵〈《「『【〔〖（［｛￡￥〝︵︷︹︻︽︿﹁﹃﹙﹛﹝（｛“‘-—_…~/ －＊➜■─★☆=@<>◉é''')\n"
      ],
      "execution_count": 0,
      "outputs": []
    },
    {
      "cell_type": "code",
      "metadata": {
        "id": "Eq4HnOzBwJ2f",
        "colab_type": "code",
        "outputId": "dd02e083-9eb3-4427-de0b-8b6bed2d6edd",
        "colab": {
          "base_uri": "https://localhost:8080/",
          "height": 54
        }
      },
      "source": [
        "import re\n",
        "content = df.iloc[0][\"content\"]\n",
        "# 去掉網址 ptt的文章內容基本上都會換行 我們順便把最後的換行字元去掉\n",
        "content = re.sub(r'https?:\\/\\/.*[\\r\\n]*', '', content)\n",
        "# 使用 filter 去掉標點符號\n",
        "content = \" \".join(filter(lambda x: x not in punct, jieba.cut(content)))\n",
        "# 去掉換行符號\n",
        "content = content.replace(\"\\n\", \"\").replace(\"\\r\", \"\")\n",
        "content"
      ],
      "execution_count": 77,
      "outputs": [
        {
          "output_type": "execute_result",
          "data": {
            "text/plain": [
              "' 剛才 去 公共 洗衣機 洗衣服   打開 來看 有 女生 的 衣服   看來 是 忘記 來 拿   旁邊 有個 籃子   原本 打算 當場 拿 出來   聞聞 自己 的 手   摸 完懶 叫 沒 洗手   想 說 戴 手套 幫 她 拿 出來   這樣 女森 看到 有 + 分 嗎   U 沒 U8 卦   '"
            ]
          },
          "metadata": {
            "tags": []
          },
          "execution_count": 77
        }
      ]
    },
    {
      "cell_type": "code",
      "metadata": {
        "id": "CC-SCc7p4woM",
        "colab_type": "code",
        "outputId": "acf0fd48-5e2e-40b5-944a-409371c67dd5",
        "colab": {
          "base_uri": "https://localhost:8080/",
          "height": 224
        }
      },
      "source": [
        "# 對表格的每一筆都做出轉換\n",
        "def process(content):\n",
        "    content = re.sub(r'https?:\\/\\/.*[\\r\\n]*', '', content)\n",
        "    content = \"\".join(filter(lambda x: x not in punct, content))\n",
        "    content = (\" \".join(jieba.cut(content))\n",
        "                  .replace(\"\\n\", \"\")\n",
        "                  .replace(\"\\r\", \"\"))\n",
        "    return content\n",
        "content_cut = df[\"content\"].apply(process)\n",
        "content_cut"
      ],
      "execution_count": 78,
      "outputs": [
        {
          "output_type": "execute_result",
          "data": {
            "text/plain": [
              "0     剛才 去 公共 洗衣機 洗衣服   打開 來看 有 女生 的 衣服   看來 是 忘記 來...\n",
              "1      小弟 今天 趁 小 週末   想 說 約 個 炮   通訊 軟體 打開   有個 台 中...\n",
              "2     1 媒體 來源  ※ 例如 蘋果日報 自由 時報 請 參考 版規 下方 的 核准 媒體 名...\n",
              "3     首先 慶祝 脫離 罰單 未繳 跟 廢帳 一樣 的 狀態  可以 廢文 就是 爽    回 ...\n",
              "4     鈕承澤   傳說 中戲 內 自己 上   戲外 也 在 上   他 是不是 台灣 的 村西...\n",
              "5     yoyo   我成 5 拉   美國 和 大陸 誰 會 先用 飛彈 打台灣 阿   有沒有...\n",
              "6     剛看 體育新聞 播 MLB 名人堂   想到 幾位 禁藥 偉人 一直 被 擋 在 門外  ...\n",
              "7     這個 呀 我 住 30 年 的 故鄉  最近 有人 檢舉 自家 樓下 違停  記者 還做 ...\n",
              "8     如 題   小弟 我 很 好奇   每個 人 身邊 一定 都 有 一些 單身 漂亮 妹子 ...\n",
              "9     ※ 發文 無 16 小 標格 式 或 未 依 順序 任意 刪除 者 會 被刪 文   1 ...\n",
              "Name: content, dtype: object"
            ]
          },
          "metadata": {
            "tags": []
          },
          "execution_count": 78
        }
      ]
    },
    {
      "cell_type": "code",
      "metadata": {
        "id": "S76aKoEodLcG",
        "colab_type": "code",
        "colab": {}
      },
      "source": [
        "import numpy as np\n",
        "np.random.seed(13)\n",
        "import keras.backend as K\n",
        "from keras.models import Sequential\n",
        "from keras.layers import Dense, Embedding, Lambda\n",
        "from keras.utils import np_utils\n",
        "from keras.preprocessing import sequence\n",
        "from keras.preprocessing.text import Tokenizer\n",
        "import gensim"
      ],
      "execution_count": 0,
      "outputs": []
    },
    {
      "cell_type": "code",
      "metadata": {
        "id": "RN1HnhuOBTC7",
        "colab_type": "code",
        "colab": {}
      },
      "source": [
        "# 太少字的句子我們去掉, 因為這樣無法移動\n",
        "corpus = [sentence for sentence in content_cut if sentence.count(' ') >= 2]\n",
        "# 將每一個詞轉成數字\n",
        "tokenizer = Tokenizer()\n",
        "tokenizer.fit_on_texts(corpus)\n",
        "corpus = tokenizer.texts_to_sequences(corpus)\n",
        "# 統計訓練資料有多少個詞\n",
        "nb_samples = sum(len(s) for s in corpus)\n",
        "# 統計我們有多少種詞\n",
        "V = len(tokenizer.word_index) + 1\n",
        "# 降維成100\n",
        "dim = 100\n",
        "# 上文取2 下文取2\n",
        "window_size = 2"
      ],
      "execution_count": 0,
      "outputs": []
    },
    {
      "cell_type": "code",
      "metadata": {
        "id": "nI9CbUbldLcM",
        "colab_type": "code",
        "colab": {}
      },
      "source": [
        "def generate_data(corpus, window_size, V):\n",
        "    # 拿最多 上文(2) + 下文(2)\n",
        "    maxlen = window_size * 2\n",
        "    # 拿出每一句\n",
        "    for words in corpus:\n",
        "        L = len(words)\n",
        "        # 拿出每一個單字\n",
        "        for index, word in enumerate(words):\n",
        "            # contexts: [上文, 下文]\n",
        "            # labels: 目標\n",
        "            contexts = []\n",
        "            labels   = []         \n",
        "            # 上文的最前面座號\n",
        "            s = index - window_size\n",
        "            # 下文的最後面座號 \n",
        "            e = index + window_size\n",
        "            # range記得要多加1\n",
        "            contexts.append([words[i] for i in range(s, e + 1) \n",
        "                                      if 0 <= i < L and i != index])\n",
        "            labels.append(word)\n",
        "            # 少於四個的前面補上0\n",
        "            x = sequence.pad_sequences(contexts, maxlen=maxlen)\n",
        "            # 答案做出one-hot encoding\n",
        "            y = np_utils.to_categorical(labels, V)\n",
        "            yield (x, y)"
      ],
      "execution_count": 0,
      "outputs": []
    },
    {
      "cell_type": "code",
      "metadata": {
        "id": "mDJpyJ5wdLcO",
        "colab_type": "code",
        "colab": {}
      },
      "source": [
        "cbow = Sequential()\n",
        "# 使用嵌入層來得到轉化過的語意\n",
        "cbow.add(Embedding(input_dim=V, output_dim=dim, input_length=window_size*2))\n",
        "# 針對4個詞的100語意做平均\n",
        "cbow.add(Lambda(lambda x: K.mean(x, axis=1), output_shape=(dim,)))\n",
        "# 輸出判斷\n",
        "cbow.add(Dense(V, activation='softmax'))"
      ],
      "execution_count": 0,
      "outputs": []
    },
    {
      "cell_type": "code",
      "metadata": {
        "id": "QL3V8zY-dLcQ",
        "colab_type": "code",
        "colab": {}
      },
      "source": [
        "cbow.compile(loss='categorical_crossentropy', optimizer='adam')"
      ],
      "execution_count": 0,
      "outputs": []
    },
    {
      "cell_type": "code",
      "metadata": {
        "id": "Ts0nbEj7dLcS",
        "colab_type": "code",
        "outputId": "8fb5c917-d0ec-4b7d-f76b-ae2f5e25a114",
        "colab": {
          "base_uri": "https://localhost:8080/",
          "height": 357
        }
      },
      "source": [
        "# 訓練十個epochs\n",
        "for i in range(10):\n",
        "    loss = 0.\n",
        "    for x, y in generate_data(corpus, window_size, V):\n",
        "        loss += cbow.train_on_batch(x, y)\n",
        "    print(\"-\" * 15, \"Iteration\", i, \"-\" * 15)\n",
        "    print(loss)"
      ],
      "execution_count": 84,
      "outputs": [
        {
          "output_type": "stream",
          "text": [
            "--------------- Iteration 0 ---------------\n",
            "9710.194072723389\n",
            "--------------- Iteration 1 ---------------\n",
            "9136.626462459564\n",
            "--------------- Iteration 2 ---------------\n",
            "8336.52780842781\n",
            "--------------- Iteration 3 ---------------\n",
            "7375.291422069073\n",
            "--------------- Iteration 4 ---------------\n",
            "6395.787819266319\n",
            "--------------- Iteration 5 ---------------\n",
            "5425.753244519234\n",
            "--------------- Iteration 6 ---------------\n",
            "4495.954996585846\n",
            "--------------- Iteration 7 ---------------\n",
            "3635.3112708181143\n",
            "--------------- Iteration 8 ---------------\n",
            "2866.5952571481466\n",
            "--------------- Iteration 9 ---------------\n",
            "2207.53133251518\n"
          ],
          "name": "stdout"
        }
      ]
    },
    {
      "cell_type": "code",
      "metadata": {
        "id": "jeNluqHMdLcU",
        "colab_type": "code",
        "colab": {}
      },
      "source": [
        "# 準備寫入我們的向量\n",
        "f = open('vectors.txt' ,'w')\n",
        "f.write('{} {}\\n'.format(V-1, dim))"
      ],
      "execution_count": 0,
      "outputs": []
    },
    {
      "cell_type": "code",
      "metadata": {
        "id": "oWPY31kOdLcW",
        "colab_type": "code",
        "colab": {}
      },
      "source": [
        "vectors = cbow.get_weights()[0]\n",
        "for word, i in tokenizer.word_index.items():\n",
        "    # 存擋的時候必須是 2 3 1 這樣空白鍵在中間\n",
        "    # 但是在用join時裡面必須是字串, 所以先用map轉換成字串\n",
        "    str_vec = ' '.join(map(str, list(vectors[i, :])))\n",
        "    f.write('{} {}\\n'.format(word, str_vec))\n",
        "f.close()"
      ],
      "execution_count": 0,
      "outputs": []
    },
    {
      "cell_type": "code",
      "metadata": {
        "id": "7tY9Fk9tdLcY",
        "colab_type": "code",
        "outputId": "2ce40969-3b03-499c-8c26-768a77f9139b",
        "colab": {
          "base_uri": "https://localhost:8080/",
          "height": 71
        }
      },
      "source": [
        "w2v = gensim.models.KeyedVectors.load_word2vec_format('./vectors.txt', binary=False)"
      ],
      "execution_count": 87,
      "outputs": [
        {
          "output_type": "stream",
          "text": [
            "/usr/local/lib/python3.6/dist-packages/smart_open/smart_open_lib.py:398: UserWarning: This function is deprecated, use smart_open.open instead. See the migration notes for details: https://github.com/RaRe-Technologies/smart_open/blob/master/README.rst#migrating-to-the-new-open-function\n",
            "  'See the migration notes for details: %s' % _MIGRATION_NOTES_URL\n"
          ],
          "name": "stderr"
        }
      ]
    },
    {
      "cell_type": "code",
      "metadata": {
        "id": "Z-c1gtFttOuM",
        "colab_type": "code",
        "colab": {
          "base_uri": "https://localhost:8080/",
          "height": 187
        },
        "outputId": "93c2d8e2-42a5-4649-a8db-6c4c31453907"
      },
      "source": [
        "w2v.most_similar(\"版主\")"
      ],
      "execution_count": 88,
      "outputs": [
        {
          "output_type": "execute_result",
          "data": {
            "text/plain": [
              "[('者', 0.7048332095146179),\n",
              " ('刪除', 0.6894614696502686),\n",
              " ('文章', 0.584216296672821),\n",
              " ('會', 0.5764173865318298),\n",
              " ('差點', 0.5747464299201965),\n",
              " ('被', 0.5591373443603516),\n",
              " ('依照', 0.5335003137588501),\n",
              " ('喔', 0.523393452167511),\n",
              " ('先生', 0.5086445212364197),\n",
              " ('板規', 0.5078556537628174)]"
            ]
          },
          "metadata": {
            "tags": []
          },
          "execution_count": 88
        }
      ]
    },
    {
      "cell_type": "code",
      "metadata": {
        "id": "Vdz3yIOudLce",
        "colab_type": "code",
        "colab": {
          "base_uri": "https://localhost:8080/",
          "height": 326
        },
        "outputId": "4c2b0480-bdad-4349-b162-fdf9f116bf6c"
      },
      "source": [
        "w2v.most_similar(\"台北\")"
      ],
      "execution_count": 89,
      "outputs": [
        {
          "output_type": "error",
          "ename": "KeyError",
          "evalue": "ignored",
          "traceback": [
            "\u001b[0;31m---------------------------------------------------------------------------\u001b[0m",
            "\u001b[0;31mKeyError\u001b[0m                                  Traceback (most recent call last)",
            "\u001b[0;32m<ipython-input-89-f63f6bce121e>\u001b[0m in \u001b[0;36m<module>\u001b[0;34m()\u001b[0m\n\u001b[0;32m----> 1\u001b[0;31m \u001b[0mw2v\u001b[0m\u001b[0;34m.\u001b[0m\u001b[0mmost_similar\u001b[0m\u001b[0;34m(\u001b[0m\u001b[0;34m\"台北\"\u001b[0m\u001b[0;34m)\u001b[0m\u001b[0;34m\u001b[0m\u001b[0;34m\u001b[0m\u001b[0m\n\u001b[0m",
            "\u001b[0;32m/usr/local/lib/python3.6/dist-packages/gensim/models/keyedvectors.py\u001b[0m in \u001b[0;36mmost_similar\u001b[0;34m(self, positive, negative, topn, restrict_vocab, indexer)\u001b[0m\n\u001b[1;32m    529\u001b[0m                 \u001b[0mmean\u001b[0m\u001b[0;34m.\u001b[0m\u001b[0mappend\u001b[0m\u001b[0;34m(\u001b[0m\u001b[0mweight\u001b[0m \u001b[0;34m*\u001b[0m \u001b[0mword\u001b[0m\u001b[0;34m)\u001b[0m\u001b[0;34m\u001b[0m\u001b[0;34m\u001b[0m\u001b[0m\n\u001b[1;32m    530\u001b[0m             \u001b[0;32melse\u001b[0m\u001b[0;34m:\u001b[0m\u001b[0;34m\u001b[0m\u001b[0;34m\u001b[0m\u001b[0m\n\u001b[0;32m--> 531\u001b[0;31m                 \u001b[0mmean\u001b[0m\u001b[0;34m.\u001b[0m\u001b[0mappend\u001b[0m\u001b[0;34m(\u001b[0m\u001b[0mweight\u001b[0m \u001b[0;34m*\u001b[0m \u001b[0mself\u001b[0m\u001b[0;34m.\u001b[0m\u001b[0mword_vec\u001b[0m\u001b[0;34m(\u001b[0m\u001b[0mword\u001b[0m\u001b[0;34m,\u001b[0m \u001b[0muse_norm\u001b[0m\u001b[0;34m=\u001b[0m\u001b[0;32mTrue\u001b[0m\u001b[0;34m)\u001b[0m\u001b[0;34m)\u001b[0m\u001b[0;34m\u001b[0m\u001b[0;34m\u001b[0m\u001b[0m\n\u001b[0m\u001b[1;32m    532\u001b[0m                 \u001b[0;32mif\u001b[0m \u001b[0mword\u001b[0m \u001b[0;32min\u001b[0m \u001b[0mself\u001b[0m\u001b[0;34m.\u001b[0m\u001b[0mvocab\u001b[0m\u001b[0;34m:\u001b[0m\u001b[0;34m\u001b[0m\u001b[0;34m\u001b[0m\u001b[0m\n\u001b[1;32m    533\u001b[0m                     \u001b[0mall_words\u001b[0m\u001b[0;34m.\u001b[0m\u001b[0madd\u001b[0m\u001b[0;34m(\u001b[0m\u001b[0mself\u001b[0m\u001b[0;34m.\u001b[0m\u001b[0mvocab\u001b[0m\u001b[0;34m[\u001b[0m\u001b[0mword\u001b[0m\u001b[0;34m]\u001b[0m\u001b[0;34m.\u001b[0m\u001b[0mindex\u001b[0m\u001b[0;34m)\u001b[0m\u001b[0;34m\u001b[0m\u001b[0;34m\u001b[0m\u001b[0m\n",
            "\u001b[0;32m/usr/local/lib/python3.6/dist-packages/gensim/models/keyedvectors.py\u001b[0m in \u001b[0;36mword_vec\u001b[0;34m(self, word, use_norm)\u001b[0m\n\u001b[1;32m    450\u001b[0m             \u001b[0;32mreturn\u001b[0m \u001b[0mresult\u001b[0m\u001b[0;34m\u001b[0m\u001b[0;34m\u001b[0m\u001b[0m\n\u001b[1;32m    451\u001b[0m         \u001b[0;32melse\u001b[0m\u001b[0;34m:\u001b[0m\u001b[0;34m\u001b[0m\u001b[0;34m\u001b[0m\u001b[0m\n\u001b[0;32m--> 452\u001b[0;31m             \u001b[0;32mraise\u001b[0m \u001b[0mKeyError\u001b[0m\u001b[0;34m(\u001b[0m\u001b[0;34m\"word '%s' not in vocabulary\"\u001b[0m \u001b[0;34m%\u001b[0m \u001b[0mword\u001b[0m\u001b[0;34m)\u001b[0m\u001b[0;34m\u001b[0m\u001b[0;34m\u001b[0m\u001b[0m\n\u001b[0m\u001b[1;32m    453\u001b[0m \u001b[0;34m\u001b[0m\u001b[0m\n\u001b[1;32m    454\u001b[0m     \u001b[0;32mdef\u001b[0m \u001b[0mget_vector\u001b[0m\u001b[0;34m(\u001b[0m\u001b[0mself\u001b[0m\u001b[0;34m,\u001b[0m \u001b[0mword\u001b[0m\u001b[0;34m)\u001b[0m\u001b[0;34m:\u001b[0m\u001b[0;34m\u001b[0m\u001b[0;34m\u001b[0m\u001b[0m\n",
            "\u001b[0;31mKeyError\u001b[0m: \"word '台北' not in vocabulary\""
          ]
        }
      ]
    }
  ]
}

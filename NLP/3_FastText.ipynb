{
  "nbformat": 4,
  "nbformat_minor": 0,
  "metadata": {
    "colab": {
      "name": "FastText_Final.ipynb",
      "provenance": []
    },
    "kernelspec": {
      "name": "python3",
      "display_name": "Python 3"
    },
    "accelerator": "GPU"
  },
  "cells": [
    {
      "cell_type": "code",
      "metadata": {
        "id": "HkZo-KWNetI4",
        "colab_type": "code",
        "outputId": "160d8999-fe92-43bd-be1a-23cac3efaa99",
        "colab": {
          "base_uri": "https://localhost:8080/",
          "height": 204
        }
      },
      "source": [
        "# 下載fasttext千錘百鍊預訓練好的詞向量\n",
        "!wget https://dl.fbaipublicfiles.com/fasttext/vectors-crawl/cc.en.300.bin.gz\n",
        "!gunzip cc.en.300.bin.gz"
      ],
      "execution_count": 1,
      "outputs": [
        {
          "output_type": "stream",
          "text": [
            "--2019-11-06 18:08:51--  https://dl.fbaipublicfiles.com/fasttext/vectors-crawl/cc.en.300.bin.gz\n",
            "Resolving dl.fbaipublicfiles.com (dl.fbaipublicfiles.com)... 104.20.6.166, 104.20.22.166, 2606:4700:10::6814:16a6, ...\n",
            "Connecting to dl.fbaipublicfiles.com (dl.fbaipublicfiles.com)|104.20.6.166|:443... connected.\n",
            "HTTP request sent, awaiting response... 200 OK\n",
            "Length: 4503593528 (4.2G) [application/octet-stream]\n",
            "Saving to: ‘cc.en.300.bin.gz’\n",
            "\n",
            "cc.en.300.bin.gz    100%[===================>]   4.19G  11.4MB/s    in 6m 15s  \n",
            "\n",
            "2019-11-06 18:15:12 (11.4 MB/s) - ‘cc.en.300.bin.gz’ saved [4503593528/4503593528]\n",
            "\n"
          ],
          "name": "stdout"
        }
      ]
    },
    {
      "cell_type": "code",
      "metadata": {
        "id": "eVlV9SjqgWFS",
        "colab_type": "code",
        "colab": {}
      },
      "source": [
        "from gensim.models.fasttext import FastText\n",
        "model = FastText.load_fasttext_format('cc.en.300.bin')"
      ],
      "execution_count": 0,
      "outputs": []
    },
    {
      "cell_type": "code",
      "metadata": {
        "id": "weRojINDubAO",
        "colab_type": "code",
        "colab": {}
      },
      "source": [
        "import warnings\n",
        "warnings.filterwarnings(\"ignore\", category=FutureWarning)"
      ],
      "execution_count": 0,
      "outputs": []
    },
    {
      "cell_type": "code",
      "metadata": {
        "id": "laoDFP6-Lr4l",
        "colab_type": "code",
        "outputId": "f4fe17cf-24fc-4f8f-9177-ac4d0d9ec432",
        "colab": {
          "base_uri": "https://localhost:8080/",
          "height": 34
        }
      },
      "source": [
        "# 我們的模型裡面有多少個詞\n",
        "len(model.wv.vocab)"
      ],
      "execution_count": 0,
      "outputs": [
        {
          "output_type": "execute_result",
          "data": {
            "text/plain": [
              "2000000"
            ]
          },
          "metadata": {
            "tags": []
          },
          "execution_count": 88
        }
      ]
    },
    {
      "cell_type": "code",
      "metadata": {
        "id": "Wue-ACwcDKmh",
        "colab_type": "code",
        "outputId": "559a00e8-3425-4b72-a054-cea8b89bcaeb",
        "colab": {
          "base_uri": "https://localhost:8080/",
          "height": 1000
        }
      },
      "source": [
        "word = \"hi\"#@param {type:\"string\"}\n",
        "print(word, \"長這樣:\")\n",
        "model.wv[word]"
      ],
      "execution_count": 0,
      "outputs": [
        {
          "output_type": "stream",
          "text": [
            "hi 長這樣:\n"
          ],
          "name": "stdout"
        },
        {
          "output_type": "execute_result",
          "data": {
            "text/plain": [
              "array([ 6.69080019e-01,  3.12104553e-01, -1.51422054e-01, -5.36489338e-02,\n",
              "        1.72184825e-01,  1.03901923e-01, -1.99337766e-01,  1.11072041e-01,\n",
              "       -3.82182710e-02,  1.25099510e-01, -3.75993773e-02, -9.09789056e-02,\n",
              "       -1.41653568e-01, -4.37250244e-04,  5.73900104e-01,  7.87762627e-02,\n",
              "       -1.31813847e-02, -1.56149328e-01, -4.46272433e-01,  1.17490031e-01,\n",
              "       -1.21908247e-01,  6.96119592e-02, -8.01118538e-02, -1.57597646e-01,\n",
              "        3.73820782e-01,  4.67122998e-03, -7.70375654e-02, -7.48431236e-02,\n",
              "       -3.63367140e-01,  8.60479534e-01, -5.56152105e-01, -1.29587829e-01,\n",
              "        8.70081112e-02, -4.48797410e-03, -1.38318613e-01, -3.29539850e-02,\n",
              "        1.72820076e-01,  1.10077284e-01, -3.83030504e-01,  5.24118468e-02,\n",
              "       -2.85879467e-02, -2.70132720e-01, -3.15474957e-01,  3.62980902e-01,\n",
              "        2.48253688e-01,  2.01504648e-01, -7.84559846e-02,  2.82055855e-01,\n",
              "       -1.53462097e-01,  2.52619356e-01,  2.06296802e-01, -3.73659134e-01,\n",
              "        4.60131645e-01,  4.59337890e-01, -1.16140306e-01, -2.18521789e-01,\n",
              "       -2.20053703e-01,  3.87894541e-01,  1.07164390e-01,  4.90380377e-02,\n",
              "       -6.17792010e-02,  2.94729024e-01, -1.42624065e-01,  6.95114061e-02,\n",
              "        5.16348302e-01,  3.73779237e-01, -2.89412588e-01,  9.54911709e-02,\n",
              "        3.52470130e-01, -2.51102209e-01,  2.37905338e-01, -2.82243878e-01,\n",
              "       -1.69829831e-01, -2.53992826e-01, -1.96811825e-01,  1.58489332e-01,\n",
              "       -3.56750011e-01,  3.41368490e-03,  3.57565910e-01,  2.85893548e-02,\n",
              "       -1.51903585e-01,  5.15157580e-02,  1.26846537e-01,  3.74943912e-01,\n",
              "        4.32654237e-03, -1.76798820e-01,  8.09803456e-02,  1.29345760e-01,\n",
              "       -5.30695558e-01, -6.11510932e-01, -4.49588150e-01, -5.98785952e-02,\n",
              "        5.93712211e-01, -5.14613725e-02,  1.07703529e-01, -2.97700644e-01,\n",
              "        2.14573279e-01,  1.34052858e-01, -7.93616474e-02,  1.69845968e-01,\n",
              "       -3.16737562e-01, -6.71403855e-02,  4.76902217e-01, -5.93741536e-02,\n",
              "        4.64116521e-02, -2.03620747e-01, -1.48419246e-01,  3.48154008e-02,\n",
              "        3.88468988e-02, -6.73665553e-02,  3.52242887e-01, -1.22866549e-01,\n",
              "       -3.20928961e-01,  3.34606260e-01,  9.92869213e-02, -3.24428409e-01,\n",
              "        2.11566225e-01,  3.13301772e-01, -8.25594604e-01,  1.55502096e-01,\n",
              "        6.84841489e-03,  2.32540086e-01, -1.00268923e-01,  5.57401739e-02,\n",
              "       -2.82876045e-02, -1.91204339e-01,  3.12542200e-01, -3.05078384e-02,\n",
              "       -3.77854072e-02, -1.70980439e-01,  2.23733425e-01, -2.22108543e-01,\n",
              "       -1.15306035e-01, -1.72357604e-01, -6.80595636e-02, -2.98388958e-01,\n",
              "       -1.21592894e-01,  4.14863408e-01, -2.55625039e-01, -1.47670597e-01,\n",
              "       -1.09150290e-01,  4.32990253e-01,  1.50870811e-02,  1.99895948e-02,\n",
              "        6.43558279e-02,  3.29400748e-02, -7.80000210e-01,  1.94588646e-01,\n",
              "        2.10528523e-01,  3.66658479e-01, -3.19933176e-01, -6.14633501e-01,\n",
              "       -3.20265770e-01, -1.55317947e-01, -9.01951343e-02, -1.53165177e-01,\n",
              "        9.58481506e-02, -2.27751750e-02,  7.75783136e-02, -1.59370631e-01,\n",
              "       -2.98900187e-01,  5.46580926e-02, -3.59823257e-02, -4.52306777e-01,\n",
              "        5.84779739e-01, -3.21552664e-01,  7.95617700e-02, -1.19146861e-01,\n",
              "       -1.72420472e-01, -2.85692245e-01,  4.34207879e-02, -1.45410731e-01,\n",
              "       -1.71651602e-01,  4.64693457e-02, -3.50144245e-02, -1.32960647e-01,\n",
              "        3.44140939e-02,  2.05299810e-01,  1.33346677e-01, -1.70346901e-01,\n",
              "        5.67415535e-01,  3.05062056e-01, -2.56874114e-01,  3.32734913e-01,\n",
              "        2.86227167e-01,  9.83564630e-02,  3.56425315e-01,  1.75545976e-01,\n",
              "        3.77194732e-02, -8.56396332e-02, -1.04808919e-01, -4.27304298e-01,\n",
              "        1.83991328e-01, -3.95935237e-01, -8.18586871e-02,  1.42368585e-01,\n",
              "       -1.35429800e-01,  3.32193434e-01,  1.97931737e-01,  2.35240638e-01,\n",
              "       -1.11323163e-01,  3.56091946e-01, -1.30762011e-02,  2.15358455e-02,\n",
              "       -2.25316398e-02, -7.78150409e-02, -1.43364780e-02,  1.47365317e-01,\n",
              "       -1.53983355e-01,  1.00557044e-01,  1.94104552e-01,  6.45618066e-02,\n",
              "       -2.94978827e-01,  7.34810010e-02,  1.24977447e-01, -4.38735932e-02,\n",
              "        2.06217319e-01, -1.00169607e-01, -8.97533521e-02,  2.89697628e-02,\n",
              "       -5.44116378e-01,  4.23108160e-01, -1.60862938e-01, -1.67585611e-01,\n",
              "       -1.53597519e-01, -2.47037500e-01, -2.62730092e-01, -3.93970966e-01,\n",
              "       -3.26449215e-01,  2.78348237e-01,  1.69473402e-02,  3.33881915e-01,\n",
              "        1.34161517e-01, -4.16460633e-01,  9.75391805e-01,  1.52573287e-01,\n",
              "        1.01710699e-01,  6.41011953e-01, -4.20284957e-01, -6.70003369e-02,\n",
              "       -1.49359752e-03, -2.04378664e-01,  8.26071918e-01,  1.25628740e-01,\n",
              "        8.71605098e-01,  2.34553814e-02, -1.62918299e-01,  3.56024325e-01,\n",
              "       -3.33306462e-01,  1.10424228e-01,  5.59325755e-01, -8.77441466e-02,\n",
              "        1.90455228e-01,  1.04660215e-02, -5.03197163e-02,  2.25930661e-01,\n",
              "        4.07039016e-01,  6.82649240e-02,  5.93202040e-02,  1.44416258e-01,\n",
              "        3.59581143e-01,  5.33491112e-02, -5.94923973e-01, -1.44978762e-01,\n",
              "        2.75975764e-01,  6.01161495e-02, -3.80052030e-01,  1.83798239e-01,\n",
              "       -7.11002052e-01, -3.52632731e-01,  3.38709027e-01, -3.46271664e-01,\n",
              "        7.19784498e-02,  2.07232192e-01,  1.27411813e-01,  5.92401996e-03,\n",
              "        8.84816721e-02, -1.00437813e-02,  9.45323780e-02, -2.69221049e-02,\n",
              "       -6.02912366e-01, -2.01117191e-02, -4.71546382e-01, -1.01708069e-01,\n",
              "        3.44796069e-02,  2.18716502e-01,  2.64444888e-01, -5.66610456e-01,\n",
              "       -7.36654103e-02,  1.14635862e-01,  3.34597707e-01,  3.48989397e-01,\n",
              "       -1.01069069e+00,  3.14133078e-01,  4.36086625e-01, -1.64999068e-01,\n",
              "        3.29074293e-01,  5.30331850e-01, -2.34848350e-01,  3.01067550e-02],\n",
              "      dtype=float32)"
            ]
          },
          "metadata": {
            "tags": []
          },
          "execution_count": 49
        }
      ]
    },
    {
      "cell_type": "code",
      "metadata": {
        "id": "QdjjywfL8GTq",
        "colab_type": "code",
        "outputId": "f73cde0c-c88e-43ef-b9e1-9550d2f2bd44",
        "colab": {
          "base_uri": "https://localhost:8080/",
          "height": 197
        }
      },
      "source": [
        "#@title 找出相似詞!!!\n",
        "\n",
        "text = 'Avengers' #@param {type:\"string\"}\n",
        "model.wv.most_similar(text)"
      ],
      "execution_count": 0,
      "outputs": [
        {
          "output_type": "execute_result",
          "data": {
            "text/plain": [
              "[('Marvel', 0.7366355657577515),\n",
              " ('AVENGERS', 0.733731746673584),\n",
              " ('X-Men', 0.7238265872001648),\n",
              " ('post-Avengers', 0.6998780369758606),\n",
              " ('Ant-Man', 0.6993571519851685),\n",
              " ('S.H.I.E.L.D.', 0.6934853196144104),\n",
              " ('S.H.I.E.L.D', 0.6907948851585388),\n",
              " ('Ultron', 0.6720542907714844),\n",
              " ('Spider-Man', 0.6704996824264526),\n",
              " ('AoU', 0.6691584587097168)]"
            ]
          },
          "metadata": {
            "tags": []
          },
          "execution_count": 47
        }
      ]
    },
    {
      "cell_type": "code",
      "metadata": {
        "id": "lJORaH4JNzDS",
        "colab_type": "code",
        "outputId": "b399dc60-4d43-42de-9cba-5d50cbfc0f2d",
        "colab": {
          "base_uri": "https://localhost:8080/",
          "height": 35
        }
      },
      "source": [
        "#@title 比較兩個特定詞的相似度\n",
        "\n",
        "text1 = 'Coldplay' #@param {type:\"string\"}\n",
        "text2 = 'OneRepublic' #@param {type:\"string\"}\n",
        "model.wv.similarity(text1, text2)"
      ],
      "execution_count": 0,
      "outputs": [
        {
          "output_type": "execute_result",
          "data": {
            "text/plain": [
              "0.7073564"
            ]
          },
          "metadata": {
            "tags": []
          },
          "execution_count": 50
        }
      ]
    },
    {
      "cell_type": "code",
      "metadata": {
        "id": "A3m66PlJJzgo",
        "colab_type": "code",
        "outputId": "23cfc696-144b-4fc4-c797-76a5c773201d",
        "colab": {
          "base_uri": "https://localhost:8080/",
          "height": 34
        }
      },
      "source": [
        "#@title 找到不是同一掛的詞\n",
        "\n",
        "text1 = 'morning' #@param {type:\"string\"}\n",
        "text2 = 'afternoon' #@param {type:\"string\"}\n",
        "text3 = 'evening' #@param {type:\"string\"}\n",
        "text4 = 'python' #@param {type:\"string\"}\n",
        "\n",
        "notmatch = model.wv.doesnt_match([text1, text2, text3, text4])\n",
        "print(\"不是同一掛的:\", notmatch)"
      ],
      "execution_count": 0,
      "outputs": [
        {
          "output_type": "stream",
          "text": [
            "不是同一掛的: python\n"
          ],
          "name": "stdout"
        }
      ]
    },
    {
      "cell_type": "code",
      "metadata": {
        "id": "i2kMoj47KTl1",
        "colab_type": "code",
        "outputId": "a040a247-43e1-4afb-d458-cb26b0773d00",
        "cellView": "both",
        "colab": {
          "base_uri": "https://localhost:8080/",
          "height": 263
        }
      },
      "source": [
        "#@title 給電腦做智力測驗(詞1 - 詞3 = ? - 詞2)\n",
        "\n",
        "# text1 + text2 - text3 = ?\n",
        "# text1 - text3 = ? - text2\n",
        "text1 = 'king' #@param {type:\"string\"}\n",
        "text2 = 'woman' #@param {type:\"string\"}\n",
        "text3 = 'man' #@param {type:\"string\"}\n",
        "question = model.wv.most_similar(positive=[text1, text2], negative=[text3])\n",
        "print(text1, \"-\", text3, \"=\", \"?\", \"-\", text2)\n",
        "question"
      ],
      "execution_count": 0,
      "outputs": [
        {
          "output_type": "stream",
          "text": [
            "/usr/local/lib/python3.6/dist-packages/gensim/matutils.py:737: FutureWarning: Conversion of the second argument of issubdtype from `int` to `np.signedinteger` is deprecated. In future, it will be treated as `np.int64 == np.dtype(int).type`.\n",
            "  if np.issubdtype(vec.dtype, np.int):\n"
          ],
          "name": "stderr"
        },
        {
          "output_type": "stream",
          "text": [
            "king - man = ? - woman\n"
          ],
          "name": "stdout"
        },
        {
          "output_type": "execute_result",
          "data": {
            "text/plain": [
              "[('queen', 0.7554813623428345),\n",
              " ('queen-mother', 0.6141632199287415),\n",
              " ('princess', 0.5755329132080078),\n",
              " ('monarch', 0.5741075873374939),\n",
              " ('kings', 0.5688967108726501),\n",
              " ('queenship', 0.5649925470352173),\n",
              " ('Queen', 0.5638619661331177),\n",
              " ('empress', 0.5544730424880981),\n",
              " ('consort', 0.5524798035621643),\n",
              " ('queen.The', 0.5497488379478455)]"
            ]
          },
          "metadata": {
            "tags": []
          },
          "execution_count": 3
        }
      ]
    },
    {
      "cell_type": "code",
      "metadata": {
        "id": "gi-SM9U21jvW",
        "colab_type": "code",
        "outputId": "5336b04c-bbc0-4e82-dab4-ce0950114cfe",
        "colab": {
          "base_uri": "https://localhost:8080/",
          "height": 51
        }
      },
      "source": [
        "text = \"machine-washabled\"\n",
        "print(\"machine-washabled有在字典裡?\", text in model.wv.vocab)\n",
        "model.wv.similarity(text, \"washable\")"
      ],
      "execution_count": 0,
      "outputs": [
        {
          "output_type": "stream",
          "text": [
            "machine-washabled有在字典裡? False\n"
          ],
          "name": "stdout"
        },
        {
          "output_type": "execute_result",
          "data": {
            "text/plain": [
              "0.41095406"
            ]
          },
          "metadata": {
            "tags": []
          },
          "execution_count": 79
        }
      ]
    }
  ]
}

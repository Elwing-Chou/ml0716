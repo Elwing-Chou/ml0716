{
  "nbformat": 4,
  "nbformat_minor": 0,
  "metadata": {
    "colab": {
      "name": "house_linear.ipynb",
      "provenance": [],
      "private_outputs": true,
      "authorship_tag": "ABX9TyN7gRS5iZ7Ga/yVFSWFMOIO",
      "include_colab_link": true
    },
    "kernelspec": {
      "name": "python3",
      "display_name": "Python 3"
    }
  },
  "cells": [
    {
      "cell_type": "markdown",
      "metadata": {
        "id": "view-in-github",
        "colab_type": "text"
      },
      "source": [
        "<a href=\"https://colab.research.google.com/github/Elwing-Chou/ml0716/blob/master/house_linear.ipynb\" target=\"_parent\"><img src=\"https://colab.research.google.com/assets/colab-badge.svg\" alt=\"Open In Colab\"/></a>"
      ]
    },
    {
      "cell_type": "code",
      "metadata": {
        "id": "4-EU00pfPHuy",
        "colab_type": "code",
        "colab": {}
      },
      "source": [
        "import pandas as pd\n",
        "train_df = pd.read_csv(\"train.csv\", encoding=\"utf-8\")\n",
        "test_df = pd.read_csv(\"test.csv\", encoding=\"utf-8\")\n",
        "train_df"
      ],
      "execution_count": null,
      "outputs": []
    },
    {
      "cell_type": "code",
      "metadata": {
        "id": "nbnyamOWPfrA",
        "colab_type": "code",
        "colab": {}
      },
      "source": [
        "datas = pd.concat([train_df, test_df], axis=0)\n",
        "datas = datas.drop([\"SalePrice\"], axis=1).reset_index(drop=True)\n",
        "datas"
      ],
      "execution_count": null,
      "outputs": []
    },
    {
      "cell_type": "code",
      "metadata": {
        "id": "q4-38uNXP__u",
        "colab_type": "code",
        "colab": {}
      },
      "source": [
        "import numpy as np\n",
        "from scipy.stats import skew\n",
        "from scipy.stats import boxcox_normmax\n",
        "from scipy.special import boxcox1p"
      ],
      "execution_count": null,
      "outputs": []
    },
    {
      "cell_type": "code",
      "metadata": {
        "id": "DIM4-6k7QtyH",
        "colab_type": "code",
        "colab": {}
      },
      "source": [
        "import matplotlib.pyplot as plt\n",
        "import seaborn as sns\n",
        "%matplotlib inline\n",
        "y = train_df[\"SalePrice\"]\n",
        "print(\"skew:\", skew(y))\n",
        "print(\"lambda:\", boxcox_normmax(1 + y))\n",
        "sns.distplot(y)"
      ],
      "execution_count": null,
      "outputs": []
    },
    {
      "cell_type": "code",
      "metadata": {
        "id": "ap9V9rIORhNX",
        "colab_type": "code",
        "colab": {}
      },
      "source": [
        "y = train_df[\"SalePrice\"]\n",
        "y_train_log1p = np.log1p(y)\n",
        "print(\"skew:\", skew(y_train_log1p))\n",
        "sns.distplot(y_train_log1p)"
      ],
      "execution_count": null,
      "outputs": []
    },
    {
      "cell_type": "code",
      "metadata": {
        "id": "7xvjccbKStIg",
        "colab_type": "code",
        "colab": {}
      },
      "source": [
        "s = datas.isna().sum()\n",
        "s[s > 0].sort_values(ascending=False)"
      ],
      "execution_count": null,
      "outputs": []
    },
    {
      "cell_type": "code",
      "metadata": {
        "id": "9y4GUN7TZA2R",
        "colab_type": "code",
        "colab": {}
      },
      "source": [
        "datas_drop = datas.drop([\"Id\", \"PoolQC\", \"MiscFeature\", \"Alley\", \"Fence\"], axis=1)"
      ],
      "execution_count": null,
      "outputs": []
    },
    {
      "cell_type": "code",
      "metadata": {
        "id": "zrDkk7d1avQu",
        "colab_type": "code",
        "colab": {}
      },
      "source": [
        "idx = datas_drop.dtypes != \"object\"\n",
        "number_idx = datas_drop.dtypes[idx].index.drop([\"MSSubClass\"])\n",
        "number_idx"
      ],
      "execution_count": null,
      "outputs": []
    },
    {
      "cell_type": "code",
      "metadata": {
        "id": "tLlSgt_0ZKla",
        "colab_type": "code",
        "colab": {}
      },
      "source": [
        "import pandas as pd\n",
        "datas_drop = pd.get_dummies(datas_drop)\n",
        "datas_drop = pd.get_dummies(datas_drop, columns=[\"MSSubClass\"])\n",
        "datas_drop"
      ],
      "execution_count": null,
      "outputs": []
    },
    {
      "cell_type": "code",
      "metadata": {
        "id": "AEf-jQ1XZ2Y0",
        "colab_type": "code",
        "colab": {}
      },
      "source": [
        "def getskew(series):\n",
        "    return skew(series.dropna() + 1)\n",
        "skewness = (datas_drop[number_idx].apply(getskew)\n",
        "                  .sort_values(ascending=False))\n",
        "need_saved = skewness[skewness > 1].index\n",
        "print(need_saved)\n",
        "skewness[skewness > 1]"
      ],
      "execution_count": null,
      "outputs": []
    },
    {
      "cell_type": "code",
      "metadata": {
        "id": "oB1UKtX3c_G4",
        "colab_type": "code",
        "colab": {}
      },
      "source": [
        "def save(s):\n",
        "    lamda = boxcox_normmax(s.dropna() + 1)\n",
        "    return boxcox1p(s, lamda)\n",
        "datas_drop[need_saved] = datas_drop[need_saved].apply(save)\n",
        "skewness = (datas_drop[number_idx].apply(getskew)\n",
        "                  .sort_values(ascending=False))\n",
        "skewness"
      ],
      "execution_count": null,
      "outputs": []
    },
    {
      "cell_type": "code",
      "metadata": {
        "id": "-JPjcnYJe-cK",
        "colab_type": "code",
        "colab": {}
      },
      "source": [
        "datas_drop = datas_drop.fillna(datas_drop.median())\n",
        "datas_drop"
      ],
      "execution_count": null,
      "outputs": []
    },
    {
      "cell_type": "code",
      "metadata": {
        "id": "kh9BEpQEvgQp",
        "colab_type": "code",
        "colab": {}
      },
      "source": [
        "from sklearn.preprocessing import RobustScaler\n",
        "scaler = RobustScaler()\n",
        "datas_norm = pd.DataFrame(scaler.fit_transform(datas_drop),\n",
        "              columns=datas_drop.columns)\n",
        "x_train = datas_norm.iloc[:len(train_df)]\n",
        "x_predict = datas_norm.iloc[len(train_df):]\n",
        "# y_train_log1p"
      ],
      "execution_count": null,
      "outputs": []
    },
    {
      "cell_type": "code",
      "metadata": {
        "id": "vBO0l6wrwgZj",
        "colab_type": "code",
        "colab": {}
      },
      "source": [
        "# x_train: 1460 * 300\n",
        "# x_predict: 1459 * 300\n",
        "# y_train_log1p: 1460"
      ],
      "execution_count": null,
      "outputs": []
    },
    {
      "cell_type": "code",
      "metadata": {
        "id": "iKXhOIy8JG6n",
        "colab_type": "code",
        "colab": {}
      },
      "source": [
        "from sklearn.linear_model import LassoCV, RidgeCV, ElasticNetCV\n",
        "from sklearn.linear_model import Lasso, Ridge, ElasticNet\n",
        "cv = LassoCV(cv=10)\n",
        "cv.fit(x_train, y_train_log1p)\n",
        "print(cv.alpha_)\n",
        "model = Lasso(cv.alpha_)\n",
        "model.fit(x_train, y_train_log1p)\n",
        "pre = model.predict(x_predict)\n",
        "result = pd.DataFrame({\n",
        "    \"Id\":test_df[\"Id\"],\n",
        "    \"SalePrice\":np.expm1(pre)\n",
        "})\n",
        "result.to_csv(\"lasso.csv\", encoding=\"utf-8\", index=False)\n",
        "result"
      ],
      "execution_count": null,
      "outputs": []
    },
    {
      "cell_type": "code",
      "metadata": {
        "id": "21cVwFM3LDXi",
        "colab_type": "code",
        "colab": {}
      },
      "source": [
        "cv = RidgeCV(cv=10)\n",
        "cv.fit(x_train, y_train_log1p)\n",
        "print(cv.alpha_)\n",
        "model = Ridge(cv.alpha_)\n",
        "model.fit(x_train, y_train_log1p)\n",
        "pre = model.predict(x_predict)\n",
        "result = pd.DataFrame({\n",
        "    \"Id\":test_df[\"Id\"],\n",
        "    \"SalePrice\":np.expm1(pre)\n",
        "})\n",
        "result.to_csv(\"ridge.csv\", encoding=\"utf-8\", index=False)\n",
        "result"
      ],
      "execution_count": null,
      "outputs": []
    },
    {
      "cell_type": "code",
      "metadata": {
        "id": "TqQ5rb8cLMcP",
        "colab_type": "code",
        "colab": {}
      },
      "source": [
        "cv = ElasticNetCV(cv=10)\n",
        "cv.fit(x_train, y_train_log1p)\n",
        "print(cv.alpha_)\n",
        "model = ElasticNet(cv.alpha_)\n",
        "model.fit(x_train, y_train_log1p)\n",
        "pre = model.predict(x_predict)\n",
        "result = pd.DataFrame({\n",
        "    \"Id\":test_df[\"Id\"],\n",
        "    \"SalePrice\":np.expm1(pre)\n",
        "})\n",
        "result.to_csv(\"elastic.csv\", encoding=\"utf-8\", index=False)\n",
        "result"
      ],
      "execution_count": null,
      "outputs": []
    }
  ]
}
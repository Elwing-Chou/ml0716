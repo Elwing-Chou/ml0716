{
  "nbformat": 4,
  "nbformat_minor": 0,
  "metadata": {
    "colab": {
      "name": "tools.ipynb",
      "provenance": [],
      "authorship_tag": "ABX9TyNk5kCloNbelikj0utm9Tv1",
      "include_colab_link": true
    },
    "kernelspec": {
      "name": "python3",
      "display_name": "Python 3"
    }
  },
  "cells": [
    {
      "cell_type": "markdown",
      "metadata": {
        "id": "view-in-github",
        "colab_type": "text"
      },
      "source": [
        "<a href=\"https://colab.research.google.com/github/Elwing-Chou/ml0716/blob/master/tools.ipynb\" target=\"_parent\"><img src=\"https://colab.research.google.com/assets/colab-badge.svg\" alt=\"Open In Colab\"/></a>"
      ]
    },
    {
      "cell_type": "code",
      "metadata": {
        "id": "Uzqhw6e4YmFt",
        "colab_type": "code",
        "colab": {}
      },
      "source": [
        "!pip install opencc-python-reimplemented"
      ],
      "execution_count": null,
      "outputs": []
    },
    {
      "cell_type": "code",
      "metadata": {
        "id": "uPn1BVnpZcXm",
        "colab_type": "code",
        "colab": {
          "base_uri": "https://localhost:8080/",
          "height": 86
        },
        "outputId": "5fbd5639-df04-437f-f32c-e69a9ec8428c"
      },
      "source": [
        "from opencc import OpenCC\n",
        "cc = OpenCC('s2twp')  # convert from Simplified Chinese to Traditional Chinese\n",
        "# can also set conversion by calling set_conversion\n",
        "# cc.set_conversion('s2tw')\n",
        "to_convert = \"\"\"〔暴爽玄幻，最热爽文〕少年陆鸣，血脉被夺，沦为废人，受尽屈辱。幸得至尊神殿，重生无上血脉，从此脚踏天才，一路逆袭，踏上热血辉煌之路。\n",
        "\n",
        "噬无尽生灵，融诸天血脉，跨千山万水，闯九天十地，败尽天下英豪，修战龙真诀，成就万道龙皇。精品群号：570274770（需要验证粉丝值） Vip群598630364（付费群）\"\"\"\n",
        "converted = cc.convert(to_convert)\n",
        "converted"
      ],
      "execution_count": 3,
      "outputs": [
        {
          "output_type": "execute_result",
          "data": {
            "application/vnd.google.colaboratory.intrinsic": {
              "type": "string"
            },
            "text/plain": [
              "'〔暴爽玄幻，最熱爽文〕少年陸鳴，血脈被奪，淪為廢人，受盡屈辱。幸得至尊神殿，重生無上血脈，從此腳踏天才，一路逆襲，踏上熱血輝煌之路。\\n\\n噬無盡生靈，融諸天血脈，跨千山萬水，闖九天十地，敗盡天下英豪，修戰龍真訣，成就萬道龍皇。精品群號：570274770（需要驗證粉絲值） Vip群598630364（付費群）'"
            ]
          },
          "metadata": {
            "tags": []
          },
          "execution_count": 3
        }
      ]
    }
  ]
}
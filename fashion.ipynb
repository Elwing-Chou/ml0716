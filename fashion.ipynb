{
  "nbformat": 4,
  "nbformat_minor": 0,
  "metadata": {
    "colab": {
      "name": "fashion.ipynb",
      "provenance": [],
      "private_outputs": true,
      "authorship_tag": "ABX9TyP1QabjzCw/EnBCMflp9ymT",
      "include_colab_link": true
    },
    "kernelspec": {
      "name": "python3",
      "display_name": "Python 3"
    }
  },
  "cells": [
    {
      "cell_type": "markdown",
      "metadata": {
        "id": "view-in-github",
        "colab_type": "text"
      },
      "source": [
        "<a href=\"https://colab.research.google.com/github/Elwing-Chou/ml0716/blob/master/fashion.ipynb\" target=\"_parent\"><img src=\"https://colab.research.google.com/assets/colab-badge.svg\" alt=\"Open In Colab\"/></a>"
      ]
    },
    {
      "cell_type": "code",
      "metadata": {
        "id": "1wUz4pCwx4Jq",
        "colab_type": "code",
        "colab": {}
      },
      "source": [
        "from tensorflow.keras.datasets.fashion_mnist import load_data\n",
        "# ((x_train, y_train), (x_test, y_test))\n",
        "(x_train, y_train), (x_test, y_test)= load_data()"
      ],
      "execution_count": null,
      "outputs": []
    },
    {
      "cell_type": "code",
      "metadata": {
        "id": "JtTrmmz4yna_",
        "colab_type": "code",
        "colab": {}
      },
      "source": [
        "print(x_train.shape)\n",
        "print(x_test.shape)"
      ],
      "execution_count": null,
      "outputs": []
    },
    {
      "cell_type": "code",
      "metadata": {
        "id": "5YZH6-4msMK8",
        "colab_type": "code",
        "colab": {}
      },
      "source": [
        "trans = [\n",
        "    \"tshirt\",\n",
        "    \"trouser\",\n",
        "    \"pullover\",\n",
        "    \"dress\",\n",
        "    \"coat\",\n",
        "    \"sandal\",\n",
        "    \"shirt\",\n",
        "    \"snaker\",\n",
        "    \"bag\",\n",
        "    \"ankle boot\"\n",
        "]"
      ],
      "execution_count": null,
      "outputs": []
    },
    {
      "cell_type": "code",
      "metadata": {
        "id": "6-CcqBWBy2J5",
        "colab_type": "code",
        "colab": {}
      },
      "source": [
        "import matplotlib.pyplot as plt\n",
        "%matplotlib inline\n",
        "idx = 0\n",
        "print(\"ans:\", trans[y_train[idx]])\n",
        "plt.imshow(x_train[idx], cmap=\"gray\")"
      ],
      "execution_count": null,
      "outputs": []
    },
    {
      "cell_type": "code",
      "metadata": {
        "id": "MesIeTIDzJ5J",
        "colab_type": "code",
        "colab": {}
      },
      "source": [
        "import pandas as pd\n",
        "pd.DataFrame(x_train[idx])"
      ],
      "execution_count": null,
      "outputs": []
    },
    {
      "cell_type": "code",
      "metadata": {
        "id": "EqynC83W5QUx",
        "colab_type": "code",
        "colab": {}
      },
      "source": [
        "from tensorflow.keras.models import Sequential\n",
        "from tensorflow.keras.layers import Dense\n",
        "layers = [\n",
        "    # 784 * 128 + 128(bias)\n",
        "    Dense(128, activation=\"relu\", input_dim=784),\n",
        "    # 128 * 10 + 10(bias)\n",
        "    Dense(10, activation=\"softmax\")\n",
        "]\n",
        "model = Sequential(layers)\n",
        "model.summary()"
      ],
      "execution_count": null,
      "outputs": []
    },
    {
      "cell_type": "code",
      "metadata": {
        "id": "M17nC9ZsgmCt",
        "colab_type": "code",
        "colab": {}
      },
      "source": [
        "from tensorflow.keras.losses import SparseCategoricalCrossentropy\n",
        "from tensorflow.keras.optimizers import Adam\n",
        "model.compile(loss=SparseCategoricalCrossentropy(),\n",
        "       optimizer=Adam(),\n",
        "       metrics=[\"accuracy\"])"
      ],
      "execution_count": null,
      "outputs": []
    },
    {
      "cell_type": "code",
      "metadata": {
        "id": "o-o9L-jwwVKD",
        "colab_type": "code",
        "colab": {}
      },
      "source": [
        "x_train_norm = x_train.reshape(-1, 784) / 255\n",
        "x_test_norm = x_test.reshape(-1, 784) / 255"
      ],
      "execution_count": null,
      "outputs": []
    },
    {
      "cell_type": "code",
      "metadata": {
        "id": "3kkhR9KVynRg",
        "colab_type": "code",
        "colab": {}
      },
      "source": [
        "from tensorflow.keras.callbacks import ModelCheckpoint, EarlyStopping\n",
        "save_callback = ModelCheckpoint(\"mnist.h5\", save_best_only=True)\n",
        "stop_callback = EarlyStopping(patience=5, restore_best_weights=True)\n",
        "# batch_size: 看幾筆再做一次梯度(平均)下降[20-200]\n",
        "# validation_split: 切出一部分資料來驗證模型好壞\n",
        "# epoch: 整份資料要看幾輪\n",
        "# verbose: 2 不要進度條\n",
        "model.fit(x_train_norm, \n",
        "     y_train,\n",
        "     batch_size=200,\n",
        "     validation_split=0.1,\n",
        "     epochs=50,\n",
        "     verbose=2,\n",
        "     callbacks=[stop_callback, save_callback])"
      ],
      "execution_count": null,
      "outputs": []
    },
    {
      "cell_type": "code",
      "metadata": {
        "id": "Zo-0OEOj3JPZ",
        "colab_type": "code",
        "colab": {}
      },
      "source": [
        "model.evaluate(x_test_norm, y_test)"
      ],
      "execution_count": null,
      "outputs": []
    },
    {
      "cell_type": "code",
      "metadata": {
        "id": "kpxueNZI-QWT",
        "colab_type": "code",
        "colab": {}
      },
      "source": [
        "# sklearn: predict(預測類別) predict_proba(預測機率)\n",
        "# tensorflow: predict_classes(預測類別) predict(預測機率)\n",
        "pre = model.predict_classes(x_test_norm)\n",
        "pre"
      ],
      "execution_count": null,
      "outputs": []
    },
    {
      "cell_type": "code",
      "metadata": {
        "id": "9YZM3ZoI-pJU",
        "colab_type": "code",
        "colab": {}
      },
      "source": [
        "import pandas as pd\n",
        "from sklearn.metrics import confusion_matrix\n",
        "pd.DataFrame(confusion_matrix(y_test, pre),\n",
        "       index=[\"{}(真實)\".format(i) for i in trans],\n",
        "       columns=[\"{}(預測)\".format(i) for i in trans])"
      ],
      "execution_count": null,
      "outputs": []
    },
    {
      "cell_type": "code",
      "metadata": {
        "id": "0RXZwkaVBVtt",
        "colab_type": "code",
        "colab": {}
      },
      "source": [
        "import numpy as np\n",
        "import matplotlib.pyplot as plt\n",
        "%matplotlib inline\n",
        "plt.figure(figsize=(14, 42))\n",
        "idx = np.nonzero(pre != y_test)[0][:200]\n",
        "width = 10\n",
        "height = len(idx) // width + 1\n",
        "for i, d  in enumerate(idx):\n",
        "    img, label, p = x_test[d], trans[y_test[d]], trans[pre[d]]\n",
        "    t = \"[L]:{}\\n[P]:{}\".format(label, p)\n",
        "    plt.subplot(height, width, i+1)\n",
        "    plt.title(t)\n",
        "    plt.axis(\"off\")\n",
        "    plt.imshow(img, cmap=\"Reds\")"
      ],
      "execution_count": null,
      "outputs": []
    },
    {
      "cell_type": "code",
      "metadata": {
        "id": "l3MLFAhxcj4S",
        "colab_type": "code",
        "colab": {}
      },
      "source": [
        "from tensorflow.keras.preprocessing.image import load_img\n",
        "fn = input(\"檔名:\")\n",
        "img = load_img(fn, target_size=(28, 28)).convert(\"L\")\n",
        "img_np = np.array(img).reshape(1, 784) / 255\n",
        "pre = model.predict(img_np)[0]\n",
        "for i in range(10):\n",
        "    print(trans[i], \"的機率:\", round(pre[i], 2))\n",
        "plt.imshow(np.array(img), cmap=\"Reds\")"
      ],
      "execution_count": null,
      "outputs": []
    }
  ]
}
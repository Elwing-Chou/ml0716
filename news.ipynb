{
  "nbformat": 4,
  "nbformat_minor": 0,
  "metadata": {
    "colab": {
      "name": "news.ipynb",
      "provenance": [],
      "include_colab_link": true
    },
    "kernelspec": {
      "name": "python3",
      "display_name": "Python 3"
    }
  },
  "cells": [
    {
      "cell_type": "markdown",
      "metadata": {
        "id": "view-in-github",
        "colab_type": "text"
      },
      "source": [
        "<a href=\"https://colab.research.google.com/github/Elwing-Chou/ml0716/blob/master/news.ipynb\" target=\"_parent\"><img src=\"https://colab.research.google.com/assets/colab-badge.svg\" alt=\"Open In Colab\"/></a>"
      ]
    },
    {
      "cell_type": "code",
      "metadata": {
        "id": "xYcEjbuDwQYv",
        "colab_type": "code",
        "colab": {
          "base_uri": "https://localhost:8080/",
          "height": 128
        },
        "outputId": "912c0bf9-150f-4190-bc03-313c3f71572f"
      },
      "source": [
        "from google.colab import drive\n",
        "drive.mount('/content/drive')"
      ],
      "execution_count": 1,
      "outputs": [
        {
          "output_type": "stream",
          "text": [
            "Go to this URL in a browser: https://accounts.google.com/o/oauth2/auth?client_id=947318989803-6bn6qk8qdgf4n4g3pfee6491hc0brc4i.apps.googleusercontent.com&redirect_uri=urn%3aietf%3awg%3aoauth%3a2.0%3aoob&response_type=code&scope=email%20https%3a%2f%2fwww.googleapis.com%2fauth%2fdocs.test%20https%3a%2f%2fwww.googleapis.com%2fauth%2fdrive%20https%3a%2f%2fwww.googleapis.com%2fauth%2fdrive.photos.readonly%20https%3a%2f%2fwww.googleapis.com%2fauth%2fpeopleapi.readonly\n",
            "\n",
            "Enter your authorization code:\n",
            "··········\n",
            "Mounted at /content/drive\n"
          ],
          "name": "stdout"
        }
      ]
    },
    {
      "cell_type": "code",
      "metadata": {
        "id": "YxKVpJKdx5WT",
        "colab_type": "code",
        "colab": {}
      },
      "source": [
        "import zipfile\n",
        "f = zipfile.ZipFile(\"drive/My Drive/0724test/chinese_news_trans.zip\")\n",
        "f.extractall(\"train\")\n",
        "f = zipfile.ZipFile(\"drive/My Drive/0724test/chinese_news_test.zip\")\n",
        "f.extractall(\"test\")"
      ],
      "execution_count": 6,
      "outputs": []
    },
    {
      "cell_type": "code",
      "metadata": {
        "id": "PpdNB-IApY6W",
        "colab_type": "code",
        "colab": {}
      },
      "source": [
        "import glob\n",
        "import os\n",
        "import pandas as pd\n",
        "\n",
        "def getdf(targetdn):\n",
        "    datas = {\n",
        "        \"path\":[],\n",
        "        \"label\":[]\n",
        "    }\n",
        "    base = \"\"\n",
        "    p = os.path.join(base, targetdn, \"*\")\n",
        "    for dn in glob.glob(p):\n",
        "        name = os.path.split(dn)[-1]\n",
        "        fn = os.path.join(dn, \"*.[tT][xX][tT]\")\n",
        "        fns = glob.glob(fn)\n",
        "        datas[\"label\"] = datas[\"label\"] + [name] * len(fns)\n",
        "        datas[\"path\"] = datas[\"path\"] + fns\n",
        "    return pd.DataFrame(datas)"
      ],
      "execution_count": 11,
      "outputs": []
    },
    {
      "cell_type": "code",
      "metadata": {
        "id": "Jn0Pmi6htwgk",
        "colab_type": "code",
        "colab": {}
      },
      "source": [
        "train_df = getdf(\"train/chinese_news_trans\")\n",
        "test_df = getdf(\"test/chinese_news_test\")"
      ],
      "execution_count": 12,
      "outputs": []
    },
    {
      "cell_type": "code",
      "metadata": {
        "id": "95YgN0_ct5Ky",
        "colab_type": "code",
        "colab": {}
      },
      "source": [
        "def read_content(fn):\n",
        "    with open(fn, \"r\", encoding=\"utf-8\") as f:\n",
        "        content = f.read()\n",
        "    return content\n",
        "train_df[\"content\"] = train_df[\"path\"].apply(read_content)\n",
        "test_df[\"content\"] = test_df[\"path\"].apply(read_content)"
      ],
      "execution_count": 14,
      "outputs": []
    },
    {
      "cell_type": "code",
      "metadata": {
        "id": "S50N_7f1ys9e",
        "colab_type": "code",
        "colab": {
          "base_uri": "https://localhost:8080/",
          "height": 494
        },
        "outputId": "9380feb2-99fd-4877-e39c-a21a27891f97"
      },
      "source": [
        "test_df"
      ],
      "execution_count": 16,
      "outputs": [
        {
          "output_type": "execute_result",
          "data": {
            "text/html": [
              "<div>\n",
              "<style scoped>\n",
              "    .dataframe tbody tr th:only-of-type {\n",
              "        vertical-align: middle;\n",
              "    }\n",
              "\n",
              "    .dataframe tbody tr th {\n",
              "        vertical-align: top;\n",
              "    }\n",
              "\n",
              "    .dataframe thead th {\n",
              "        text-align: right;\n",
              "    }\n",
              "</style>\n",
              "<table border=\"1\" class=\"dataframe\">\n",
              "  <thead>\n",
              "    <tr style=\"text-align: right;\">\n",
              "      <th></th>\n",
              "      <th>path</th>\n",
              "      <th>label</th>\n",
              "      <th>content</th>\n",
              "    </tr>\n",
              "  </thead>\n",
              "  <tbody>\n",
              "    <tr>\n",
              "      <th>0</th>\n",
              "      <td>test/chinese_news_test/軍事/8240.txt</td>\n",
              "      <td>軍事</td>\n",
              "      <td>美海軍成功演示飛機在空中控制無人機(附圖) \\n\\n--------------------...</td>\n",
              "    </tr>\n",
              "    <tr>\n",
              "      <th>1</th>\n",
              "      <td>test/chinese_news_test/軍事/8249.txt</td>\n",
              "      <td>軍事</td>\n",
              "      <td>\\n軍事評論：“巴格達之戰”考驗美軍巷戰武器裝備(2) \\n\\n--------------...</td>\n",
              "    </tr>\n",
              "    <tr>\n",
              "      <th>2</th>\n",
              "      <td>test/chinese_news_test/軍事/8245.txt</td>\n",
              "      <td>軍事</td>\n",
              "      <td>軍事評論：美英聯軍地面作戰裝備特點分析(2) \\n\\n-------------------...</td>\n",
              "    </tr>\n",
              "    <tr>\n",
              "      <th>3</th>\n",
              "      <td>test/chinese_news_test/軍事/8244.txt</td>\n",
              "      <td>軍事</td>\n",
              "      <td>在伊拉克戰爭中使用的空襲精確制導彈藥(1) \\n\\n--------------------...</td>\n",
              "    </tr>\n",
              "    <tr>\n",
              "      <th>4</th>\n",
              "      <td>test/chinese_news_test/軍事/8247.txt</td>\n",
              "      <td>軍事</td>\n",
              "      <td>軍事評論：從巷戰或地道戰看單兵夜視裝備的發展 \\n\\n-------------------...</td>\n",
              "    </tr>\n",
              "    <tr>\n",
              "      <th>...</th>\n",
              "      <td>...</td>\n",
              "      <td>...</td>\n",
              "      <td>...</td>\n",
              "    </tr>\n",
              "    <tr>\n",
              "      <th>96</th>\n",
              "      <td>test/chinese_news_test/政治/9505.TXT</td>\n",
              "      <td>政治</td>\n",
              "      <td>楊主席提出促進中拉關係的５項建議\\n新華社蒙得維的亞５月２３日電正在這...</td>\n",
              "    </tr>\n",
              "    <tr>\n",
              "      <th>97</th>\n",
              "      <td>test/chinese_news_test/政治/9501.TXT</td>\n",
              "      <td>政治</td>\n",
              "      <td>阿拉伯外長會議閉幕\\n新華社巴格達５月２４日電為期２天的阿拉伯外長會\\...</td>\n",
              "    </tr>\n",
              "    <tr>\n",
              "      <th>98</th>\n",
              "      <td>test/chinese_news_test/政治/9500.TXT</td>\n",
              "      <td>政治</td>\n",
              "      <td>外事簡訊\\n新華社北京５月２４日電外事簡訊\\n    全國人大常委會副...</td>\n",
              "    </tr>\n",
              "    <tr>\n",
              "      <th>99</th>\n",
              "      <td>test/chinese_news_test/政治/9497.TXT</td>\n",
              "      <td>政治</td>\n",
              "      <td>第３次安第斯集團首腦會議閉幕\\n新華社庫斯科（祕魯）５月２３日電第３次...</td>\n",
              "    </tr>\n",
              "    <tr>\n",
              "      <th>100</th>\n",
              "      <td>test/chinese_news_test/政治/9503.TXT</td>\n",
              "      <td>政治</td>\n",
              "      <td>ＡＡ０５５\\n金日成指出朝鮮北方堅持以聯邦制統一國家\\n    (4)內容: ...</td>\n",
              "    </tr>\n",
              "  </tbody>\n",
              "</table>\n",
              "<p>101 rows × 3 columns</p>\n",
              "</div>"
            ],
            "text/plain": [
              "                                   path  ...                                            content\n",
              "0    test/chinese_news_test/軍事/8240.txt  ...  美海軍成功演示飛機在空中控制無人機(附圖) \\n\\n--------------------...\n",
              "1    test/chinese_news_test/軍事/8249.txt  ...  \\n軍事評論：“巴格達之戰”考驗美軍巷戰武器裝備(2) \\n\\n--------------...\n",
              "2    test/chinese_news_test/軍事/8245.txt  ...  軍事評論：美英聯軍地面作戰裝備特點分析(2) \\n\\n-------------------...\n",
              "3    test/chinese_news_test/軍事/8244.txt  ...  在伊拉克戰爭中使用的空襲精確制導彈藥(1) \\n\\n--------------------...\n",
              "4    test/chinese_news_test/軍事/8247.txt  ...  軍事評論：從巷戰或地道戰看單兵夜視裝備的發展 \\n\\n-------------------...\n",
              "..                                  ...  ...                                                ...\n",
              "96   test/chinese_news_test/政治/9505.TXT  ...             楊主席提出促進中拉關係的５項建議\\n新華社蒙得維的亞５月２３日電正在這...\n",
              "97   test/chinese_news_test/政治/9501.TXT  ...             阿拉伯外長會議閉幕\\n新華社巴格達５月２４日電為期２天的阿拉伯外長會\\...\n",
              "98   test/chinese_news_test/政治/9500.TXT  ...             外事簡訊\\n新華社北京５月２４日電外事簡訊\\n    全國人大常委會副...\n",
              "99   test/chinese_news_test/政治/9497.TXT  ...             第３次安第斯集團首腦會議閉幕\\n新華社庫斯科（祕魯）５月２３日電第３次...\n",
              "100  test/chinese_news_test/政治/9503.TXT  ...         ＡＡ０５５\\n金日成指出朝鮮北方堅持以聯邦制統一國家\\n    (4)內容: ...\n",
              "\n",
              "[101 rows x 3 columns]"
            ]
          },
          "metadata": {
            "tags": []
          },
          "execution_count": 16
        }
      ]
    }
  ]
}
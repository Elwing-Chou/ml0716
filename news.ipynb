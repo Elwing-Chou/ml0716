{
  "nbformat": 4,
  "nbformat_minor": 0,
  "metadata": {
    "colab": {
      "name": "news.ipynb",
      "provenance": [],
      "include_colab_link": true
    },
    "kernelspec": {
      "name": "python3",
      "display_name": "Python 3"
    }
  },
  "cells": [
    {
      "cell_type": "markdown",
      "metadata": {
        "id": "view-in-github",
        "colab_type": "text"
      },
      "source": [
        "<a href=\"https://colab.research.google.com/github/Elwing-Chou/ml0716/blob/master/news.ipynb\" target=\"_parent\"><img src=\"https://colab.research.google.com/assets/colab-badge.svg\" alt=\"Open In Colab\"/></a>"
      ]
    },
    {
      "cell_type": "code",
      "metadata": {
        "id": "xYcEjbuDwQYv",
        "colab_type": "code",
        "colab": {}
      },
      "source": [
        "from google.colab import drive\n",
        "drive.mount('/content/drive')"
      ],
      "execution_count": null,
      "outputs": []
    },
    {
      "cell_type": "code",
      "metadata": {
        "id": "YxKVpJKdx5WT",
        "colab_type": "code",
        "colab": {}
      },
      "source": [
        "import zipfile\n",
        "f = zipfile.ZipFile(\"drive/My Drive/0724test/chinese_news_trans.zip\")\n",
        "f.extractall(\"train\")\n",
        "f = zipfile.ZipFile(\"drive/My Drive/0724test/chinese_news_test.zip\")\n",
        "f.extractall(\"test\")"
      ],
      "execution_count": 6,
      "outputs": []
    },
    {
      "cell_type": "code",
      "metadata": {
        "id": "PpdNB-IApY6W",
        "colab_type": "code",
        "colab": {}
      },
      "source": [
        "import glob\n",
        "import os\n",
        "import pandas as pd\n",
        "\n",
        "def getdf(targetdn):\n",
        "    datas = {\n",
        "        \"path\":[],\n",
        "        \"label\":[]\n",
        "    }\n",
        "    base = \"\"\n",
        "    p = os.path.join(base, targetdn, \"*\")\n",
        "    for dn in glob.glob(p):\n",
        "        name = os.path.split(dn)[-1]\n",
        "        fn = os.path.join(dn, \"*.[tT][xX][tT]\")\n",
        "        fns = glob.glob(fn)\n",
        "        datas[\"label\"] = datas[\"label\"] + [name] * len(fns)\n",
        "        datas[\"path\"] = datas[\"path\"] + fns\n",
        "    return pd.DataFrame(datas)"
      ],
      "execution_count": 11,
      "outputs": []
    },
    {
      "cell_type": "code",
      "metadata": {
        "id": "Jn0Pmi6htwgk",
        "colab_type": "code",
        "colab": {}
      },
      "source": [
        "train_df = getdf(\"train/chinese_news_trans\")\n",
        "test_df = getdf(\"test/chinese_news_test\")"
      ],
      "execution_count": 12,
      "outputs": []
    },
    {
      "cell_type": "code",
      "metadata": {
        "id": "95YgN0_ct5Ky",
        "colab_type": "code",
        "colab": {}
      },
      "source": [
        "def read_content(fn):\n",
        "    with open(fn, \"r\", encoding=\"utf-8\") as f:\n",
        "        content = f.read()\n",
        "    return content\n",
        "train_df[\"content\"] = train_df[\"path\"].apply(read_content)\n",
        "test_df[\"content\"] = test_df[\"path\"].apply(read_content)"
      ],
      "execution_count": 14,
      "outputs": []
    },
    {
      "cell_type": "code",
      "metadata": {
        "id": "S50N_7f1ys9e",
        "colab_type": "code",
        "colab": {
          "base_uri": "https://localhost:8080/",
          "height": 494
        },
        "outputId": "9380feb2-99fd-4877-e39c-a21a27891f97"
      },
      "source": [
        "test_df"
      ],
      "execution_count": 16,
      "outputs": [
        {
          "output_type": "execute_result",
          "data": {
            "text/html": [
              "<div>\n",
              "<style scoped>\n",
              "    .dataframe tbody tr th:only-of-type {\n",
              "        vertical-align: middle;\n",
              "    }\n",
              "\n",
              "    .dataframe tbody tr th {\n",
              "        vertical-align: top;\n",
              "    }\n",
              "\n",
              "    .dataframe thead th {\n",
              "        text-align: right;\n",
              "    }\n",
              "</style>\n",
              "<table border=\"1\" class=\"dataframe\">\n",
              "  <thead>\n",
              "    <tr style=\"text-align: right;\">\n",
              "      <th></th>\n",
              "      <th>path</th>\n",
              "      <th>label</th>\n",
              "      <th>content</th>\n",
              "    </tr>\n",
              "  </thead>\n",
              "  <tbody>\n",
              "    <tr>\n",
              "      <th>0</th>\n",
              "      <td>test/chinese_news_test/軍事/8240.txt</td>\n",
              "      <td>軍事</td>\n",
              "      <td>美海軍成功演示飛機在空中控制無人機(附圖) \\n\\n--------------------...</td>\n",
              "    </tr>\n",
              "    <tr>\n",
              "      <th>1</th>\n",
              "      <td>test/chinese_news_test/軍事/8249.txt</td>\n",
              "      <td>軍事</td>\n",
              "      <td>\\n軍事評論：“巴格達之戰”考驗美軍巷戰武器裝備(2) \\n\\n--------------...</td>\n",
              "    </tr>\n",
              "    <tr>\n",
              "      <th>2</th>\n",
              "      <td>test/chinese_news_test/軍事/8245.txt</td>\n",
              "      <td>軍事</td>\n",
              "      <td>軍事評論：美英聯軍地面作戰裝備特點分析(2) \\n\\n-------------------...</td>\n",
              "    </tr>\n",
              "    <tr>\n",
              "      <th>3</th>\n",
              "      <td>test/chinese_news_test/軍事/8244.txt</td>\n",
              "      <td>軍事</td>\n",
              "      <td>在伊拉克戰爭中使用的空襲精確制導彈藥(1) \\n\\n--------------------...</td>\n",
              "    </tr>\n",
              "    <tr>\n",
              "      <th>4</th>\n",
              "      <td>test/chinese_news_test/軍事/8247.txt</td>\n",
              "      <td>軍事</td>\n",
              "      <td>軍事評論：從巷戰或地道戰看單兵夜視裝備的發展 \\n\\n-------------------...</td>\n",
              "    </tr>\n",
              "    <tr>\n",
              "      <th>...</th>\n",
              "      <td>...</td>\n",
              "      <td>...</td>\n",
              "      <td>...</td>\n",
              "    </tr>\n",
              "    <tr>\n",
              "      <th>96</th>\n",
              "      <td>test/chinese_news_test/政治/9505.TXT</td>\n",
              "      <td>政治</td>\n",
              "      <td>楊主席提出促進中拉關係的５項建議\\n新華社蒙得維的亞５月２３日電正在這...</td>\n",
              "    </tr>\n",
              "    <tr>\n",
              "      <th>97</th>\n",
              "      <td>test/chinese_news_test/政治/9501.TXT</td>\n",
              "      <td>政治</td>\n",
              "      <td>阿拉伯外長會議閉幕\\n新華社巴格達５月２４日電為期２天的阿拉伯外長會\\...</td>\n",
              "    </tr>\n",
              "    <tr>\n",
              "      <th>98</th>\n",
              "      <td>test/chinese_news_test/政治/9500.TXT</td>\n",
              "      <td>政治</td>\n",
              "      <td>外事簡訊\\n新華社北京５月２４日電外事簡訊\\n    全國人大常委會副...</td>\n",
              "    </tr>\n",
              "    <tr>\n",
              "      <th>99</th>\n",
              "      <td>test/chinese_news_test/政治/9497.TXT</td>\n",
              "      <td>政治</td>\n",
              "      <td>第３次安第斯集團首腦會議閉幕\\n新華社庫斯科（祕魯）５月２３日電第３次...</td>\n",
              "    </tr>\n",
              "    <tr>\n",
              "      <th>100</th>\n",
              "      <td>test/chinese_news_test/政治/9503.TXT</td>\n",
              "      <td>政治</td>\n",
              "      <td>ＡＡ０５５\\n金日成指出朝鮮北方堅持以聯邦制統一國家\\n    (4)內容: ...</td>\n",
              "    </tr>\n",
              "  </tbody>\n",
              "</table>\n",
              "<p>101 rows × 3 columns</p>\n",
              "</div>"
            ],
            "text/plain": [
              "                                   path  ...                                            content\n",
              "0    test/chinese_news_test/軍事/8240.txt  ...  美海軍成功演示飛機在空中控制無人機(附圖) \\n\\n--------------------...\n",
              "1    test/chinese_news_test/軍事/8249.txt  ...  \\n軍事評論：“巴格達之戰”考驗美軍巷戰武器裝備(2) \\n\\n--------------...\n",
              "2    test/chinese_news_test/軍事/8245.txt  ...  軍事評論：美英聯軍地面作戰裝備特點分析(2) \\n\\n-------------------...\n",
              "3    test/chinese_news_test/軍事/8244.txt  ...  在伊拉克戰爭中使用的空襲精確制導彈藥(1) \\n\\n--------------------...\n",
              "4    test/chinese_news_test/軍事/8247.txt  ...  軍事評論：從巷戰或地道戰看單兵夜視裝備的發展 \\n\\n-------------------...\n",
              "..                                  ...  ...                                                ...\n",
              "96   test/chinese_news_test/政治/9505.TXT  ...             楊主席提出促進中拉關係的５項建議\\n新華社蒙得維的亞５月２３日電正在這...\n",
              "97   test/chinese_news_test/政治/9501.TXT  ...             阿拉伯外長會議閉幕\\n新華社巴格達５月２４日電為期２天的阿拉伯外長會\\...\n",
              "98   test/chinese_news_test/政治/9500.TXT  ...             外事簡訊\\n新華社北京５月２４日電外事簡訊\\n    全國人大常委會副...\n",
              "99   test/chinese_news_test/政治/9497.TXT  ...             第３次安第斯集團首腦會議閉幕\\n新華社庫斯科（祕魯）５月２３日電第３次...\n",
              "100  test/chinese_news_test/政治/9503.TXT  ...         ＡＡ０５５\\n金日成指出朝鮮北方堅持以聯邦制統一國家\\n    (4)內容: ...\n",
              "\n",
              "[101 rows x 3 columns]"
            ]
          },
          "metadata": {
            "tags": []
          },
          "execution_count": 16
        }
      ]
    },
    {
      "cell_type": "code",
      "metadata": {
        "id": "K6ZqQrry6dqQ",
        "colab_type": "code",
        "colab": {}
      },
      "source": [
        "u = train_df[\"label\"].unique()\n",
        "trans = {n:i for i, n in enumerate(u)}\n",
        "trans_r = {i:n for i, n in enumerate(u)}\n",
        "y_train = train_df[\"label\"].replace(trans)\n",
        "y_test = test_df[\"label\"].replace(trans)\n",
        "y_test"
      ],
      "execution_count": null,
      "outputs": []
    },
    {
      "cell_type": "code",
      "metadata": {
        "id": "0PKNRYTb60el",
        "colab_type": "code",
        "colab": {}
      },
      "source": [
        "import jieba\n",
        "from urllib.request import urlretrieve\n",
        "url = \"https://github.com/fxsjy/jieba/raw/master/extra_dict/dict.txt.big\"\n",
        "urlretrieve(url, \"dict.txt.big\")\n",
        "jieba.set_dictionary(\"dict.txt.big\")\n",
        "def newscut(p):\n",
        "    return \" \".join(jieba.cut(p))\n",
        "x_train = train_df[\"content\"].apply(newscut)\n",
        "x_test = test_df[\"content\"].apply(newscut)\n",
        "x_test"
      ],
      "execution_count": null,
      "outputs": []
    },
    {
      "cell_type": "code",
      "metadata": {
        "id": "ylU-tQG47amp",
        "colab_type": "code",
        "colab": {}
      },
      "source": [
        "from sklearn.feature_extraction.text import CountVectorizer\n",
        "vec = CountVectorizer()\n",
        "x_train_count = vec.fit_transform(x_train)\n",
        "x_test_count = vec.transform(x_test)"
      ],
      "execution_count": 19,
      "outputs": []
    },
    {
      "cell_type": "code",
      "metadata": {
        "id": "1HrwgbVO7dno",
        "colab_type": "code",
        "colab": {
          "base_uri": "https://localhost:8080/",
          "height": 35
        },
        "outputId": "555b9128-6ec1-4fed-9583-ef0b09700223"
      },
      "source": [
        "from sklearn.naive_bayes import MultinomialNB\n",
        "clf = MultinomialNB()\n",
        "clf.fit(x_train_count, y_train)"
      ],
      "execution_count": 20,
      "outputs": [
        {
          "output_type": "execute_result",
          "data": {
            "text/plain": [
              "MultinomialNB(alpha=1.0, class_prior=None, fit_prior=True)"
            ]
          },
          "metadata": {
            "tags": []
          },
          "execution_count": 20
        }
      ]
    },
    {
      "cell_type": "code",
      "metadata": {
        "id": "SXt735p57f2Q",
        "colab_type": "code",
        "colab": {
          "base_uri": "https://localhost:8080/",
          "height": 35
        },
        "outputId": "030e85de-4a39-4421-e33c-e320242bd408"
      },
      "source": [
        "from sklearn.metrics import accuracy_score\n",
        "pre = clf.predict(x_test_count)\n",
        "accuracy_score(pre, y_test)"
      ],
      "execution_count": 21,
      "outputs": [
        {
          "output_type": "execute_result",
          "data": {
            "text/plain": [
              "1.0"
            ]
          },
          "metadata": {
            "tags": []
          },
          "execution_count": 21
        }
      ]
    },
    {
      "cell_type": "code",
      "metadata": {
        "id": "a-kvqTn6709A",
        "colab_type": "code",
        "colab": {
          "base_uri": "https://localhost:8080/",
          "height": 245
        },
        "outputId": "e0d4937d-0539-4a8a-ccb7-47cb7f814ccc"
      },
      "source": [
        "test = input(\"輸入一首新聞:\")\n",
        "count = vec.transform([newscut(test)])\n",
        "answer = clf.predict(count)[0]\n",
        "proba = clf.predict_proba(count)[0]\n",
        "for name, p in zip(u, proba):\n",
        "    print(name, \"的機率:\", p)\n",
        "print(\"答案:\", trans_r[answer])"
      ],
      "execution_count": 25,
      "outputs": [
        {
          "output_type": "stream",
          "text": [
            "輸入一首新聞:威力彩連摃頭獎直飆25億元，成為全台熱門話題，日前網傳「電腦選號」是送錢給彩券行，對此，台灣彩券推翻民間說法表示，第四屆彩券自103年1月1日起，威力彩頭獎中獎者「電腦選號」比例是70%，近6年來幸運中頭獎的電選與自選比例約為7：3。  PTT近期上有一篇「威力彩電腦選號真的有差嗎？」引起話題，發文者表示，自己路過彩券行順手買了一張威力彩，父親知道他是用電腦選號後就碎念「電腦選號是給彩券行送錢，自己選號才有機會中」，該名父親質疑，電腦選號是真的隨機嗎？也有可能懷疑是設計好1萬組號碼隨機發，且這1萬組號碼永遠都不會中大獎，因此認為電腦選號就是送錢給彩券行。  網友們議論，有人認同「好像有點道理」，但也有人無法相信此民間說法，還有人點出關鍵「開獎也不是真隨機啊，入球順序也會影響結果」，也有人建議乾脆自己用程式跑隨機自己「電腦選號」。  根據「三立新聞網」報導，台彩依據投注系統的統計資料表示，威力彩第四屆的投注交易中，「電腦選號」投注的消費者佔比69.9%，而開出的30注頭獎裡，有21注是「電腦選號」，佔比70%。  另外，消費者購買大樂透和威力彩採「電腦選號」（包括部分電腦選號）與「自行選號」的比例約是7：3，近6年來中頭獎的「電腦選號」與「自行選號」比例，同樣約是7：3。\n",
            "軍事 的機率: 1.604838448365467e-28\n",
            "交通 的機率: 2.5785660104385224e-57\n",
            "計算機 的機率: 1.0\n",
            "環境 的機率: 1.6901931661840217e-54\n",
            "藝術 的機率: 4.1248236788596004e-38\n",
            "醫藥 的機率: 3.1137848484112106e-65\n",
            "教育 的機率: 6.12773529558314e-39\n",
            "經濟 的機率: 1.68358224916136e-21\n",
            "體育 的機率: 3.4214920064480707e-54\n",
            "政治 的機率: 4.88233768062496e-75\n",
            "答案: 計算機\n"
          ],
          "name": "stdout"
        }
      ]
    }
  ]
}
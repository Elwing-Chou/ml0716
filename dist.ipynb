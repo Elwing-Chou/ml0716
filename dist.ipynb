{
  "nbformat": 4,
  "nbformat_minor": 0,
  "metadata": {
    "colab": {
      "name": "dist.ipynb",
      "provenance": [],
      "private_outputs": true,
      "authorship_tag": "ABX9TyOotIfeoV1Ojfuy3Y1o/PfF",
      "include_colab_link": true
    },
    "kernelspec": {
      "name": "python3",
      "display_name": "Python 3"
    }
  },
  "cells": [
    {
      "cell_type": "markdown",
      "metadata": {
        "id": "view-in-github",
        "colab_type": "text"
      },
      "source": [
        "<a href=\"https://colab.research.google.com/github/Elwing-Chou/ml0716/blob/master/dist.ipynb\" target=\"_parent\"><img src=\"https://colab.research.google.com/assets/colab-badge.svg\" alt=\"Open In Colab\"/></a>"
      ]
    },
    {
      "cell_type": "code",
      "metadata": {
        "id": "TDo2aV63TVFF",
        "colab_type": "code",
        "colab": {}
      },
      "source": [
        "import matplotlib.pyplot as plt\n",
        "import seaborn as sns\n",
        "import numpy as np\n",
        "%matplotlib inline\n",
        "samples = np.random.normal(loc=10, scale=2, size=10000)\n",
        "sns.distplot(samples)"
      ],
      "execution_count": null,
      "outputs": []
    },
    {
      "cell_type": "code",
      "metadata": {
        "id": "4RZ5DZiBUsv2",
        "colab_type": "code",
        "colab": {}
      },
      "source": [
        "s = samples[samples > 0] + 1\n",
        "sns.distplot(s)"
      ],
      "execution_count": null,
      "outputs": []
    },
    {
      "cell_type": "code",
      "metadata": {
        "id": "2iHG-6VhWEOh",
        "colab_type": "code",
        "colab": {}
      },
      "source": [
        "from scipy.stats import skew\n",
        "new = s ** 5\n",
        "sns.distplot(new)\n",
        "print(\"skew:\", skew(new))"
      ],
      "execution_count": null,
      "outputs": []
    },
    {
      "cell_type": "code",
      "metadata": {
        "id": "upwvF5WijK6i",
        "colab_type": "code",
        "colab": {}
      },
      "source": [
        "from scipy.stats import boxcox_normmax, boxcox\n",
        "lamda = boxcox_normmax(new)\n",
        "print(lamda)\n",
        "new2 = boxcox(new, lamda)\n",
        "sns.distplot(new2)\n",
        "print(skew(new2))"
      ],
      "execution_count": null,
      "outputs": []
    },
    {
      "cell_type": "code",
      "metadata": {
        "id": "yFRWZJVeWjSY",
        "colab_type": "code",
        "colab": {}
      },
      "source": [
        "new = s ** (1/5)\n",
        "sns.distplot(new)\n",
        "print(\"skew:\", skew(new))"
      ],
      "execution_count": null,
      "outputs": []
    },
    {
      "cell_type": "code",
      "metadata": {
        "id": "Y97iVUWIkJsJ",
        "colab_type": "code",
        "colab": {}
      },
      "source": [
        "lamda = boxcox_normmax(new)\n",
        "print(lamda)\n",
        "new2 = boxcox(new, lamda)\n",
        "sns.distplot(new2)\n",
        "print(skew(new2))"
      ],
      "execution_count": null,
      "outputs": []
    },
    {
      "cell_type": "code",
      "metadata": {
        "id": "2D9U4PS9Xaxh",
        "colab_type": "code",
        "colab": {}
      },
      "source": [
        "new = np.power(2, s)\n",
        "sns.distplot(new)\n",
        "print(\"skew:\", skew(new))"
      ],
      "execution_count": null,
      "outputs": []
    },
    {
      "cell_type": "code",
      "metadata": {
        "id": "zWsjQyxKkSkZ",
        "colab_type": "code",
        "colab": {}
      },
      "source": [
        "import numpy as np\n",
        "lamda = boxcox_normmax(new)\n",
        "print(lamda)\n",
        "# new2 = boxcox(new, lamda)\n",
        "new2 = np.log(new)\n",
        "sns.distplot(new2)\n",
        "print(skew(new2))"
      ],
      "execution_count": null,
      "outputs": []
    }
  ]
}
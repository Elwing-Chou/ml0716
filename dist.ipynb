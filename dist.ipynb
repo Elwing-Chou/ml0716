{
  "nbformat": 4,
  "nbformat_minor": 0,
  "metadata": {
    "colab": {
      "name": "dist.ipynb",
      "provenance": [],
      "private_outputs": true,
      "authorship_tag": "ABX9TyPb3du1EPeV6/IjYPRDMauI",
      "include_colab_link": true
    },
    "kernelspec": {
      "name": "python3",
      "display_name": "Python 3"
    }
  },
  "cells": [
    {
      "cell_type": "markdown",
      "metadata": {
        "id": "view-in-github",
        "colab_type": "text"
      },
      "source": [
        "<a href=\"https://colab.research.google.com/github/Elwing-Chou/ml0716/blob/master/dist.ipynb\" target=\"_parent\"><img src=\"https://colab.research.google.com/assets/colab-badge.svg\" alt=\"Open In Colab\"/></a>"
      ]
    },
    {
      "cell_type": "code",
      "metadata": {
        "id": "TDo2aV63TVFF",
        "colab_type": "code",
        "colab": {}
      },
      "source": [
        "import matplotlib.pyplot as plt\n",
        "import seaborn as sns\n",
        "import numpy as np\n",
        "%matplotlib inline\n",
        "samples = np.random.normal(loc=10, scale=2, size=10000)\n",
        "sns.distplot(samples)"
      ],
      "execution_count": null,
      "outputs": []
    },
    {
      "cell_type": "code",
      "metadata": {
        "id": "4RZ5DZiBUsv2",
        "colab_type": "code",
        "colab": {}
      },
      "source": [
        "s = samples[samples > 0] + 1\n",
        "sns.distplot(s)"
      ],
      "execution_count": null,
      "outputs": []
    },
    {
      "cell_type": "code",
      "metadata": {
        "id": "2iHG-6VhWEOh",
        "colab_type": "code",
        "colab": {}
      },
      "source": [
        "new = s ** 5\n",
        "sns.distplot(new)"
      ],
      "execution_count": null,
      "outputs": []
    },
    {
      "cell_type": "code",
      "metadata": {
        "id": "yFRWZJVeWjSY",
        "colab_type": "code",
        "colab": {}
      },
      "source": [
        "new = s ** (1/5)\n",
        "sns.distplot(new)"
      ],
      "execution_count": null,
      "outputs": []
    },
    {
      "cell_type": "code",
      "metadata": {
        "id": "2D9U4PS9Xaxh",
        "colab_type": "code",
        "colab": {}
      },
      "source": [
        "new = np.power(1.2, s)\n",
        "sns.distplot(new)"
      ],
      "execution_count": null,
      "outputs": []
    }
  ]
}